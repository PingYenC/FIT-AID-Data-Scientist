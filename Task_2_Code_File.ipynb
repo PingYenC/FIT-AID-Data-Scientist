{
  "nbformat": 4,
  "nbformat_minor": 0,
  "metadata": {
    "colab": {
      "provenance": []
    },
    "kernelspec": {
      "name": "python3",
      "display_name": "Python 3"
    },
    "language_info": {
      "name": "python"
    }
  },
  "cells": [
    {
      "cell_type": "code",
      "execution_count": 1,
      "metadata": {
        "id": "9sMV5sEqK8Uj"
      },
      "outputs": [],
      "source": [
        "# coding: utf-8 (python 3.10.12)\n",
        "# Author: Ping-Yen Chung"
      ]
    },
    {
      "cell_type": "code",
      "source": [
        "'''Install the required package for loading public data from google drive file'''\n",
        "#!pip install gdown\n",
        "import gdown\n",
        "import pandas as pd"
      ],
      "metadata": {
        "id": "x0_LUT6bLpYV"
      },
      "execution_count": 2,
      "outputs": []
    },
    {
      "cell_type": "markdown",
      "source": [
        "# Load data"
      ],
      "metadata": {
        "id": "-kil581RNsRG"
      }
    },
    {
      "cell_type": "code",
      "source": [
        "'''create a function to load data from google drive file'''\n",
        "\n",
        "def load_data(file_ids, file_names):\n",
        "  for file_id, file_name in zip(file_ids, file_names):\n",
        "    url = f'https://drive.google.com/uc?id={file_id}'\n",
        "    gdown.download(url, file_name)\n",
        "\n",
        "    key = file_name.split('.')[0]\n",
        "    globals()[key] = pd.read_csv(f'/content/{file_name}')\n",
        "    print(f'{file_name} is successfully loaded!')\n"
      ],
      "metadata": {
        "id": "Ir_iTkYaQJpH"
      },
      "execution_count": 3,
      "outputs": []
    },
    {
      "cell_type": "code",
      "source": [
        "'''load data using the load_data function'''\n",
        "\n",
        "file_ids = ['1RIq8aKYSxSS-rjb9ZRbRRJPzQfhN33ql', '1Q8cN9Cg2aTlbCg9-wwwRoGyKbk8OFQpo']\n",
        "file_names = ['test.csv', 'train.csv']\n",
        "\n",
        "load_data(file_ids, file_names)"
      ],
      "metadata": {
        "colab": {
          "base_uri": "https://localhost:8080/"
        },
        "id": "uA8ITC5AMrIP",
        "outputId": "4eb99fc1-184e-41e5-b54a-35ff5dc10a3a"
      },
      "execution_count": 4,
      "outputs": [
        {
          "output_type": "stream",
          "name": "stderr",
          "text": [
            "Downloading...\n",
            "From: https://drive.google.com/uc?id=1RIq8aKYSxSS-rjb9ZRbRRJPzQfhN33ql\n",
            "To: /content/test.csv\n",
            "100%|██████████| 8.09M/8.09M [00:00<00:00, 81.4MB/s]\n"
          ]
        },
        {
          "output_type": "stream",
          "name": "stdout",
          "text": [
            "test.csv is successfully loaded!\n"
          ]
        },
        {
          "output_type": "stream",
          "name": "stderr",
          "text": [
            "Downloading...\n",
            "From: https://drive.google.com/uc?id=1Q8cN9Cg2aTlbCg9-wwwRoGyKbk8OFQpo\n",
            "To: /content/train.csv\n",
            "100%|██████████| 12.4M/12.4M [00:00<00:00, 81.3MB/s]\n"
          ]
        },
        {
          "output_type": "stream",
          "name": "stdout",
          "text": [
            "train.csv is successfully loaded!\n"
          ]
        }
      ]
    },
    {
      "cell_type": "markdown",
      "source": [
        "# Check data"
      ],
      "metadata": {
        "id": "HvzC-AUrPIpu"
      }
    },
    {
      "cell_type": "code",
      "source": [
        "train.head()"
      ],
      "metadata": {
        "colab": {
          "base_uri": "https://localhost:8080/",
          "height": 226
        },
        "id": "uf72sidkSy1v",
        "outputId": "f0ccece5-8c29-42e5-e6c3-a63cf7cd0522"
      },
      "execution_count": 5,
      "outputs": [
        {
          "output_type": "execute_result",
          "data": {
            "text/plain": [
              "   id  CustomerId         Surname  CreditScore Geography Gender   Age  Tenure  \\\n",
              "0   0    15674932  Okwudilichukwu          668    France   Male  33.0       3   \n",
              "1   1    15749177   Okwudiliolisa          627    France   Male  33.0       1   \n",
              "2   2    15694510           Hsueh          678    France   Male  40.0      10   \n",
              "3   3    15741417             Kao          581    France   Male  34.0       2   \n",
              "4   4    15766172       Chiemenam          716     Spain   Male  33.0       5   \n",
              "\n",
              "     Balance  NumOfProducts  HasCrCard  IsActiveMember  EstimatedSalary  \\\n",
              "0       0.00              2        1.0             0.0        181449.97   \n",
              "1       0.00              2        1.0             1.0         49503.50   \n",
              "2       0.00              2        1.0             0.0        184866.69   \n",
              "3  148882.54              1        1.0             1.0         84560.88   \n",
              "4       0.00              2        1.0             1.0         15068.83   \n",
              "\n",
              "   Exited  \n",
              "0       0  \n",
              "1       0  \n",
              "2       0  \n",
              "3       0  \n",
              "4       0  "
            ],
            "text/html": [
              "\n",
              "  <div id=\"df-1aff7301-2ac8-4721-8993-bcb8c6c3ca83\" class=\"colab-df-container\">\n",
              "    <div>\n",
              "<style scoped>\n",
              "    .dataframe tbody tr th:only-of-type {\n",
              "        vertical-align: middle;\n",
              "    }\n",
              "\n",
              "    .dataframe tbody tr th {\n",
              "        vertical-align: top;\n",
              "    }\n",
              "\n",
              "    .dataframe thead th {\n",
              "        text-align: right;\n",
              "    }\n",
              "</style>\n",
              "<table border=\"1\" class=\"dataframe\">\n",
              "  <thead>\n",
              "    <tr style=\"text-align: right;\">\n",
              "      <th></th>\n",
              "      <th>id</th>\n",
              "      <th>CustomerId</th>\n",
              "      <th>Surname</th>\n",
              "      <th>CreditScore</th>\n",
              "      <th>Geography</th>\n",
              "      <th>Gender</th>\n",
              "      <th>Age</th>\n",
              "      <th>Tenure</th>\n",
              "      <th>Balance</th>\n",
              "      <th>NumOfProducts</th>\n",
              "      <th>HasCrCard</th>\n",
              "      <th>IsActiveMember</th>\n",
              "      <th>EstimatedSalary</th>\n",
              "      <th>Exited</th>\n",
              "    </tr>\n",
              "  </thead>\n",
              "  <tbody>\n",
              "    <tr>\n",
              "      <th>0</th>\n",
              "      <td>0</td>\n",
              "      <td>15674932</td>\n",
              "      <td>Okwudilichukwu</td>\n",
              "      <td>668</td>\n",
              "      <td>France</td>\n",
              "      <td>Male</td>\n",
              "      <td>33.0</td>\n",
              "      <td>3</td>\n",
              "      <td>0.00</td>\n",
              "      <td>2</td>\n",
              "      <td>1.0</td>\n",
              "      <td>0.0</td>\n",
              "      <td>181449.97</td>\n",
              "      <td>0</td>\n",
              "    </tr>\n",
              "    <tr>\n",
              "      <th>1</th>\n",
              "      <td>1</td>\n",
              "      <td>15749177</td>\n",
              "      <td>Okwudiliolisa</td>\n",
              "      <td>627</td>\n",
              "      <td>France</td>\n",
              "      <td>Male</td>\n",
              "      <td>33.0</td>\n",
              "      <td>1</td>\n",
              "      <td>0.00</td>\n",
              "      <td>2</td>\n",
              "      <td>1.0</td>\n",
              "      <td>1.0</td>\n",
              "      <td>49503.50</td>\n",
              "      <td>0</td>\n",
              "    </tr>\n",
              "    <tr>\n",
              "      <th>2</th>\n",
              "      <td>2</td>\n",
              "      <td>15694510</td>\n",
              "      <td>Hsueh</td>\n",
              "      <td>678</td>\n",
              "      <td>France</td>\n",
              "      <td>Male</td>\n",
              "      <td>40.0</td>\n",
              "      <td>10</td>\n",
              "      <td>0.00</td>\n",
              "      <td>2</td>\n",
              "      <td>1.0</td>\n",
              "      <td>0.0</td>\n",
              "      <td>184866.69</td>\n",
              "      <td>0</td>\n",
              "    </tr>\n",
              "    <tr>\n",
              "      <th>3</th>\n",
              "      <td>3</td>\n",
              "      <td>15741417</td>\n",
              "      <td>Kao</td>\n",
              "      <td>581</td>\n",
              "      <td>France</td>\n",
              "      <td>Male</td>\n",
              "      <td>34.0</td>\n",
              "      <td>2</td>\n",
              "      <td>148882.54</td>\n",
              "      <td>1</td>\n",
              "      <td>1.0</td>\n",
              "      <td>1.0</td>\n",
              "      <td>84560.88</td>\n",
              "      <td>0</td>\n",
              "    </tr>\n",
              "    <tr>\n",
              "      <th>4</th>\n",
              "      <td>4</td>\n",
              "      <td>15766172</td>\n",
              "      <td>Chiemenam</td>\n",
              "      <td>716</td>\n",
              "      <td>Spain</td>\n",
              "      <td>Male</td>\n",
              "      <td>33.0</td>\n",
              "      <td>5</td>\n",
              "      <td>0.00</td>\n",
              "      <td>2</td>\n",
              "      <td>1.0</td>\n",
              "      <td>1.0</td>\n",
              "      <td>15068.83</td>\n",
              "      <td>0</td>\n",
              "    </tr>\n",
              "  </tbody>\n",
              "</table>\n",
              "</div>\n",
              "    <div class=\"colab-df-buttons\">\n",
              "\n",
              "  <div class=\"colab-df-container\">\n",
              "    <button class=\"colab-df-convert\" onclick=\"convertToInteractive('df-1aff7301-2ac8-4721-8993-bcb8c6c3ca83')\"\n",
              "            title=\"Convert this dataframe to an interactive table.\"\n",
              "            style=\"display:none;\">\n",
              "\n",
              "  <svg xmlns=\"http://www.w3.org/2000/svg\" height=\"24px\" viewBox=\"0 -960 960 960\">\n",
              "    <path d=\"M120-120v-720h720v720H120Zm60-500h600v-160H180v160Zm220 220h160v-160H400v160Zm0 220h160v-160H400v160ZM180-400h160v-160H180v160Zm440 0h160v-160H620v160ZM180-180h160v-160H180v160Zm440 0h160v-160H620v160Z\"/>\n",
              "  </svg>\n",
              "    </button>\n",
              "\n",
              "  <style>\n",
              "    .colab-df-container {\n",
              "      display:flex;\n",
              "      gap: 12px;\n",
              "    }\n",
              "\n",
              "    .colab-df-convert {\n",
              "      background-color: #E8F0FE;\n",
              "      border: none;\n",
              "      border-radius: 50%;\n",
              "      cursor: pointer;\n",
              "      display: none;\n",
              "      fill: #1967D2;\n",
              "      height: 32px;\n",
              "      padding: 0 0 0 0;\n",
              "      width: 32px;\n",
              "    }\n",
              "\n",
              "    .colab-df-convert:hover {\n",
              "      background-color: #E2EBFA;\n",
              "      box-shadow: 0px 1px 2px rgba(60, 64, 67, 0.3), 0px 1px 3px 1px rgba(60, 64, 67, 0.15);\n",
              "      fill: #174EA6;\n",
              "    }\n",
              "\n",
              "    .colab-df-buttons div {\n",
              "      margin-bottom: 4px;\n",
              "    }\n",
              "\n",
              "    [theme=dark] .colab-df-convert {\n",
              "      background-color: #3B4455;\n",
              "      fill: #D2E3FC;\n",
              "    }\n",
              "\n",
              "    [theme=dark] .colab-df-convert:hover {\n",
              "      background-color: #434B5C;\n",
              "      box-shadow: 0px 1px 3px 1px rgba(0, 0, 0, 0.15);\n",
              "      filter: drop-shadow(0px 1px 2px rgba(0, 0, 0, 0.3));\n",
              "      fill: #FFFFFF;\n",
              "    }\n",
              "  </style>\n",
              "\n",
              "    <script>\n",
              "      const buttonEl =\n",
              "        document.querySelector('#df-1aff7301-2ac8-4721-8993-bcb8c6c3ca83 button.colab-df-convert');\n",
              "      buttonEl.style.display =\n",
              "        google.colab.kernel.accessAllowed ? 'block' : 'none';\n",
              "\n",
              "      async function convertToInteractive(key) {\n",
              "        const element = document.querySelector('#df-1aff7301-2ac8-4721-8993-bcb8c6c3ca83');\n",
              "        const dataTable =\n",
              "          await google.colab.kernel.invokeFunction('convertToInteractive',\n",
              "                                                    [key], {});\n",
              "        if (!dataTable) return;\n",
              "\n",
              "        const docLinkHtml = 'Like what you see? Visit the ' +\n",
              "          '<a target=\"_blank\" href=https://colab.research.google.com/notebooks/data_table.ipynb>data table notebook</a>'\n",
              "          + ' to learn more about interactive tables.';\n",
              "        element.innerHTML = '';\n",
              "        dataTable['output_type'] = 'display_data';\n",
              "        await google.colab.output.renderOutput(dataTable, element);\n",
              "        const docLink = document.createElement('div');\n",
              "        docLink.innerHTML = docLinkHtml;\n",
              "        element.appendChild(docLink);\n",
              "      }\n",
              "    </script>\n",
              "  </div>\n",
              "\n",
              "\n",
              "<div id=\"df-8f1a419b-7c11-42fc-b0af-8ba52fab0465\">\n",
              "  <button class=\"colab-df-quickchart\" onclick=\"quickchart('df-8f1a419b-7c11-42fc-b0af-8ba52fab0465')\"\n",
              "            title=\"Suggest charts\"\n",
              "            style=\"display:none;\">\n",
              "\n",
              "<svg xmlns=\"http://www.w3.org/2000/svg\" height=\"24px\"viewBox=\"0 0 24 24\"\n",
              "     width=\"24px\">\n",
              "    <g>\n",
              "        <path d=\"M19 3H5c-1.1 0-2 .9-2 2v14c0 1.1.9 2 2 2h14c1.1 0 2-.9 2-2V5c0-1.1-.9-2-2-2zM9 17H7v-7h2v7zm4 0h-2V7h2v10zm4 0h-2v-4h2v4z\"/>\n",
              "    </g>\n",
              "</svg>\n",
              "  </button>\n",
              "\n",
              "<style>\n",
              "  .colab-df-quickchart {\n",
              "      --bg-color: #E8F0FE;\n",
              "      --fill-color: #1967D2;\n",
              "      --hover-bg-color: #E2EBFA;\n",
              "      --hover-fill-color: #174EA6;\n",
              "      --disabled-fill-color: #AAA;\n",
              "      --disabled-bg-color: #DDD;\n",
              "  }\n",
              "\n",
              "  [theme=dark] .colab-df-quickchart {\n",
              "      --bg-color: #3B4455;\n",
              "      --fill-color: #D2E3FC;\n",
              "      --hover-bg-color: #434B5C;\n",
              "      --hover-fill-color: #FFFFFF;\n",
              "      --disabled-bg-color: #3B4455;\n",
              "      --disabled-fill-color: #666;\n",
              "  }\n",
              "\n",
              "  .colab-df-quickchart {\n",
              "    background-color: var(--bg-color);\n",
              "    border: none;\n",
              "    border-radius: 50%;\n",
              "    cursor: pointer;\n",
              "    display: none;\n",
              "    fill: var(--fill-color);\n",
              "    height: 32px;\n",
              "    padding: 0;\n",
              "    width: 32px;\n",
              "  }\n",
              "\n",
              "  .colab-df-quickchart:hover {\n",
              "    background-color: var(--hover-bg-color);\n",
              "    box-shadow: 0 1px 2px rgba(60, 64, 67, 0.3), 0 1px 3px 1px rgba(60, 64, 67, 0.15);\n",
              "    fill: var(--button-hover-fill-color);\n",
              "  }\n",
              "\n",
              "  .colab-df-quickchart-complete:disabled,\n",
              "  .colab-df-quickchart-complete:disabled:hover {\n",
              "    background-color: var(--disabled-bg-color);\n",
              "    fill: var(--disabled-fill-color);\n",
              "    box-shadow: none;\n",
              "  }\n",
              "\n",
              "  .colab-df-spinner {\n",
              "    border: 2px solid var(--fill-color);\n",
              "    border-color: transparent;\n",
              "    border-bottom-color: var(--fill-color);\n",
              "    animation:\n",
              "      spin 1s steps(1) infinite;\n",
              "  }\n",
              "\n",
              "  @keyframes spin {\n",
              "    0% {\n",
              "      border-color: transparent;\n",
              "      border-bottom-color: var(--fill-color);\n",
              "      border-left-color: var(--fill-color);\n",
              "    }\n",
              "    20% {\n",
              "      border-color: transparent;\n",
              "      border-left-color: var(--fill-color);\n",
              "      border-top-color: var(--fill-color);\n",
              "    }\n",
              "    30% {\n",
              "      border-color: transparent;\n",
              "      border-left-color: var(--fill-color);\n",
              "      border-top-color: var(--fill-color);\n",
              "      border-right-color: var(--fill-color);\n",
              "    }\n",
              "    40% {\n",
              "      border-color: transparent;\n",
              "      border-right-color: var(--fill-color);\n",
              "      border-top-color: var(--fill-color);\n",
              "    }\n",
              "    60% {\n",
              "      border-color: transparent;\n",
              "      border-right-color: var(--fill-color);\n",
              "    }\n",
              "    80% {\n",
              "      border-color: transparent;\n",
              "      border-right-color: var(--fill-color);\n",
              "      border-bottom-color: var(--fill-color);\n",
              "    }\n",
              "    90% {\n",
              "      border-color: transparent;\n",
              "      border-bottom-color: var(--fill-color);\n",
              "    }\n",
              "  }\n",
              "</style>\n",
              "\n",
              "  <script>\n",
              "    async function quickchart(key) {\n",
              "      const quickchartButtonEl =\n",
              "        document.querySelector('#' + key + ' button');\n",
              "      quickchartButtonEl.disabled = true;  // To prevent multiple clicks.\n",
              "      quickchartButtonEl.classList.add('colab-df-spinner');\n",
              "      try {\n",
              "        const charts = await google.colab.kernel.invokeFunction(\n",
              "            'suggestCharts', [key], {});\n",
              "      } catch (error) {\n",
              "        console.error('Error during call to suggestCharts:', error);\n",
              "      }\n",
              "      quickchartButtonEl.classList.remove('colab-df-spinner');\n",
              "      quickchartButtonEl.classList.add('colab-df-quickchart-complete');\n",
              "    }\n",
              "    (() => {\n",
              "      let quickchartButtonEl =\n",
              "        document.querySelector('#df-8f1a419b-7c11-42fc-b0af-8ba52fab0465 button');\n",
              "      quickchartButtonEl.style.display =\n",
              "        google.colab.kernel.accessAllowed ? 'block' : 'none';\n",
              "    })();\n",
              "  </script>\n",
              "</div>\n",
              "\n",
              "    </div>\n",
              "  </div>\n"
            ],
            "application/vnd.google.colaboratory.intrinsic+json": {
              "type": "dataframe",
              "variable_name": "train"
            }
          },
          "metadata": {},
          "execution_count": 5
        }
      ]
    },
    {
      "cell_type": "code",
      "source": [
        "test.head()"
      ],
      "metadata": {
        "colab": {
          "base_uri": "https://localhost:8080/",
          "height": 226
        },
        "id": "v8HfoWRPSxH0",
        "outputId": "bf7acec3-6dd5-4841-a61e-78e96f14df48"
      },
      "execution_count": 6,
      "outputs": [
        {
          "output_type": "execute_result",
          "data": {
            "text/plain": [
              "       id  CustomerId    Surname  CreditScore Geography  Gender   Age  Tenure  \\\n",
              "0  165034    15773898   Lucchese          586    France  Female  23.0       2   \n",
              "1  165035    15782418       Nott          683    France  Female  46.0       2   \n",
              "2  165036    15807120         K?          656    France  Female  34.0       7   \n",
              "3  165037    15808905  O'Donnell          681    France    Male  36.0       8   \n",
              "4  165038    15607314    Higgins          752   Germany    Male  38.0      10   \n",
              "\n",
              "     Balance  NumOfProducts  HasCrCard  IsActiveMember  EstimatedSalary  \n",
              "0       0.00              2        0.0             1.0        160976.75  \n",
              "1       0.00              1        1.0             0.0         72549.27  \n",
              "2       0.00              2        1.0             0.0        138882.09  \n",
              "3       0.00              1        1.0             0.0        113931.57  \n",
              "4  121263.62              1        1.0             0.0        139431.00  "
            ],
            "text/html": [
              "\n",
              "  <div id=\"df-61f24453-207f-428b-98e5-3283256da873\" class=\"colab-df-container\">\n",
              "    <div>\n",
              "<style scoped>\n",
              "    .dataframe tbody tr th:only-of-type {\n",
              "        vertical-align: middle;\n",
              "    }\n",
              "\n",
              "    .dataframe tbody tr th {\n",
              "        vertical-align: top;\n",
              "    }\n",
              "\n",
              "    .dataframe thead th {\n",
              "        text-align: right;\n",
              "    }\n",
              "</style>\n",
              "<table border=\"1\" class=\"dataframe\">\n",
              "  <thead>\n",
              "    <tr style=\"text-align: right;\">\n",
              "      <th></th>\n",
              "      <th>id</th>\n",
              "      <th>CustomerId</th>\n",
              "      <th>Surname</th>\n",
              "      <th>CreditScore</th>\n",
              "      <th>Geography</th>\n",
              "      <th>Gender</th>\n",
              "      <th>Age</th>\n",
              "      <th>Tenure</th>\n",
              "      <th>Balance</th>\n",
              "      <th>NumOfProducts</th>\n",
              "      <th>HasCrCard</th>\n",
              "      <th>IsActiveMember</th>\n",
              "      <th>EstimatedSalary</th>\n",
              "    </tr>\n",
              "  </thead>\n",
              "  <tbody>\n",
              "    <tr>\n",
              "      <th>0</th>\n",
              "      <td>165034</td>\n",
              "      <td>15773898</td>\n",
              "      <td>Lucchese</td>\n",
              "      <td>586</td>\n",
              "      <td>France</td>\n",
              "      <td>Female</td>\n",
              "      <td>23.0</td>\n",
              "      <td>2</td>\n",
              "      <td>0.00</td>\n",
              "      <td>2</td>\n",
              "      <td>0.0</td>\n",
              "      <td>1.0</td>\n",
              "      <td>160976.75</td>\n",
              "    </tr>\n",
              "    <tr>\n",
              "      <th>1</th>\n",
              "      <td>165035</td>\n",
              "      <td>15782418</td>\n",
              "      <td>Nott</td>\n",
              "      <td>683</td>\n",
              "      <td>France</td>\n",
              "      <td>Female</td>\n",
              "      <td>46.0</td>\n",
              "      <td>2</td>\n",
              "      <td>0.00</td>\n",
              "      <td>1</td>\n",
              "      <td>1.0</td>\n",
              "      <td>0.0</td>\n",
              "      <td>72549.27</td>\n",
              "    </tr>\n",
              "    <tr>\n",
              "      <th>2</th>\n",
              "      <td>165036</td>\n",
              "      <td>15807120</td>\n",
              "      <td>K?</td>\n",
              "      <td>656</td>\n",
              "      <td>France</td>\n",
              "      <td>Female</td>\n",
              "      <td>34.0</td>\n",
              "      <td>7</td>\n",
              "      <td>0.00</td>\n",
              "      <td>2</td>\n",
              "      <td>1.0</td>\n",
              "      <td>0.0</td>\n",
              "      <td>138882.09</td>\n",
              "    </tr>\n",
              "    <tr>\n",
              "      <th>3</th>\n",
              "      <td>165037</td>\n",
              "      <td>15808905</td>\n",
              "      <td>O'Donnell</td>\n",
              "      <td>681</td>\n",
              "      <td>France</td>\n",
              "      <td>Male</td>\n",
              "      <td>36.0</td>\n",
              "      <td>8</td>\n",
              "      <td>0.00</td>\n",
              "      <td>1</td>\n",
              "      <td>1.0</td>\n",
              "      <td>0.0</td>\n",
              "      <td>113931.57</td>\n",
              "    </tr>\n",
              "    <tr>\n",
              "      <th>4</th>\n",
              "      <td>165038</td>\n",
              "      <td>15607314</td>\n",
              "      <td>Higgins</td>\n",
              "      <td>752</td>\n",
              "      <td>Germany</td>\n",
              "      <td>Male</td>\n",
              "      <td>38.0</td>\n",
              "      <td>10</td>\n",
              "      <td>121263.62</td>\n",
              "      <td>1</td>\n",
              "      <td>1.0</td>\n",
              "      <td>0.0</td>\n",
              "      <td>139431.00</td>\n",
              "    </tr>\n",
              "  </tbody>\n",
              "</table>\n",
              "</div>\n",
              "    <div class=\"colab-df-buttons\">\n",
              "\n",
              "  <div class=\"colab-df-container\">\n",
              "    <button class=\"colab-df-convert\" onclick=\"convertToInteractive('df-61f24453-207f-428b-98e5-3283256da873')\"\n",
              "            title=\"Convert this dataframe to an interactive table.\"\n",
              "            style=\"display:none;\">\n",
              "\n",
              "  <svg xmlns=\"http://www.w3.org/2000/svg\" height=\"24px\" viewBox=\"0 -960 960 960\">\n",
              "    <path d=\"M120-120v-720h720v720H120Zm60-500h600v-160H180v160Zm220 220h160v-160H400v160Zm0 220h160v-160H400v160ZM180-400h160v-160H180v160Zm440 0h160v-160H620v160ZM180-180h160v-160H180v160Zm440 0h160v-160H620v160Z\"/>\n",
              "  </svg>\n",
              "    </button>\n",
              "\n",
              "  <style>\n",
              "    .colab-df-container {\n",
              "      display:flex;\n",
              "      gap: 12px;\n",
              "    }\n",
              "\n",
              "    .colab-df-convert {\n",
              "      background-color: #E8F0FE;\n",
              "      border: none;\n",
              "      border-radius: 50%;\n",
              "      cursor: pointer;\n",
              "      display: none;\n",
              "      fill: #1967D2;\n",
              "      height: 32px;\n",
              "      padding: 0 0 0 0;\n",
              "      width: 32px;\n",
              "    }\n",
              "\n",
              "    .colab-df-convert:hover {\n",
              "      background-color: #E2EBFA;\n",
              "      box-shadow: 0px 1px 2px rgba(60, 64, 67, 0.3), 0px 1px 3px 1px rgba(60, 64, 67, 0.15);\n",
              "      fill: #174EA6;\n",
              "    }\n",
              "\n",
              "    .colab-df-buttons div {\n",
              "      margin-bottom: 4px;\n",
              "    }\n",
              "\n",
              "    [theme=dark] .colab-df-convert {\n",
              "      background-color: #3B4455;\n",
              "      fill: #D2E3FC;\n",
              "    }\n",
              "\n",
              "    [theme=dark] .colab-df-convert:hover {\n",
              "      background-color: #434B5C;\n",
              "      box-shadow: 0px 1px 3px 1px rgba(0, 0, 0, 0.15);\n",
              "      filter: drop-shadow(0px 1px 2px rgba(0, 0, 0, 0.3));\n",
              "      fill: #FFFFFF;\n",
              "    }\n",
              "  </style>\n",
              "\n",
              "    <script>\n",
              "      const buttonEl =\n",
              "        document.querySelector('#df-61f24453-207f-428b-98e5-3283256da873 button.colab-df-convert');\n",
              "      buttonEl.style.display =\n",
              "        google.colab.kernel.accessAllowed ? 'block' : 'none';\n",
              "\n",
              "      async function convertToInteractive(key) {\n",
              "        const element = document.querySelector('#df-61f24453-207f-428b-98e5-3283256da873');\n",
              "        const dataTable =\n",
              "          await google.colab.kernel.invokeFunction('convertToInteractive',\n",
              "                                                    [key], {});\n",
              "        if (!dataTable) return;\n",
              "\n",
              "        const docLinkHtml = 'Like what you see? Visit the ' +\n",
              "          '<a target=\"_blank\" href=https://colab.research.google.com/notebooks/data_table.ipynb>data table notebook</a>'\n",
              "          + ' to learn more about interactive tables.';\n",
              "        element.innerHTML = '';\n",
              "        dataTable['output_type'] = 'display_data';\n",
              "        await google.colab.output.renderOutput(dataTable, element);\n",
              "        const docLink = document.createElement('div');\n",
              "        docLink.innerHTML = docLinkHtml;\n",
              "        element.appendChild(docLink);\n",
              "      }\n",
              "    </script>\n",
              "  </div>\n",
              "\n",
              "\n",
              "<div id=\"df-199b7d33-fbe1-4265-adf8-0d2896514a59\">\n",
              "  <button class=\"colab-df-quickchart\" onclick=\"quickchart('df-199b7d33-fbe1-4265-adf8-0d2896514a59')\"\n",
              "            title=\"Suggest charts\"\n",
              "            style=\"display:none;\">\n",
              "\n",
              "<svg xmlns=\"http://www.w3.org/2000/svg\" height=\"24px\"viewBox=\"0 0 24 24\"\n",
              "     width=\"24px\">\n",
              "    <g>\n",
              "        <path d=\"M19 3H5c-1.1 0-2 .9-2 2v14c0 1.1.9 2 2 2h14c1.1 0 2-.9 2-2V5c0-1.1-.9-2-2-2zM9 17H7v-7h2v7zm4 0h-2V7h2v10zm4 0h-2v-4h2v4z\"/>\n",
              "    </g>\n",
              "</svg>\n",
              "  </button>\n",
              "\n",
              "<style>\n",
              "  .colab-df-quickchart {\n",
              "      --bg-color: #E8F0FE;\n",
              "      --fill-color: #1967D2;\n",
              "      --hover-bg-color: #E2EBFA;\n",
              "      --hover-fill-color: #174EA6;\n",
              "      --disabled-fill-color: #AAA;\n",
              "      --disabled-bg-color: #DDD;\n",
              "  }\n",
              "\n",
              "  [theme=dark] .colab-df-quickchart {\n",
              "      --bg-color: #3B4455;\n",
              "      --fill-color: #D2E3FC;\n",
              "      --hover-bg-color: #434B5C;\n",
              "      --hover-fill-color: #FFFFFF;\n",
              "      --disabled-bg-color: #3B4455;\n",
              "      --disabled-fill-color: #666;\n",
              "  }\n",
              "\n",
              "  .colab-df-quickchart {\n",
              "    background-color: var(--bg-color);\n",
              "    border: none;\n",
              "    border-radius: 50%;\n",
              "    cursor: pointer;\n",
              "    display: none;\n",
              "    fill: var(--fill-color);\n",
              "    height: 32px;\n",
              "    padding: 0;\n",
              "    width: 32px;\n",
              "  }\n",
              "\n",
              "  .colab-df-quickchart:hover {\n",
              "    background-color: var(--hover-bg-color);\n",
              "    box-shadow: 0 1px 2px rgba(60, 64, 67, 0.3), 0 1px 3px 1px rgba(60, 64, 67, 0.15);\n",
              "    fill: var(--button-hover-fill-color);\n",
              "  }\n",
              "\n",
              "  .colab-df-quickchart-complete:disabled,\n",
              "  .colab-df-quickchart-complete:disabled:hover {\n",
              "    background-color: var(--disabled-bg-color);\n",
              "    fill: var(--disabled-fill-color);\n",
              "    box-shadow: none;\n",
              "  }\n",
              "\n",
              "  .colab-df-spinner {\n",
              "    border: 2px solid var(--fill-color);\n",
              "    border-color: transparent;\n",
              "    border-bottom-color: var(--fill-color);\n",
              "    animation:\n",
              "      spin 1s steps(1) infinite;\n",
              "  }\n",
              "\n",
              "  @keyframes spin {\n",
              "    0% {\n",
              "      border-color: transparent;\n",
              "      border-bottom-color: var(--fill-color);\n",
              "      border-left-color: var(--fill-color);\n",
              "    }\n",
              "    20% {\n",
              "      border-color: transparent;\n",
              "      border-left-color: var(--fill-color);\n",
              "      border-top-color: var(--fill-color);\n",
              "    }\n",
              "    30% {\n",
              "      border-color: transparent;\n",
              "      border-left-color: var(--fill-color);\n",
              "      border-top-color: var(--fill-color);\n",
              "      border-right-color: var(--fill-color);\n",
              "    }\n",
              "    40% {\n",
              "      border-color: transparent;\n",
              "      border-right-color: var(--fill-color);\n",
              "      border-top-color: var(--fill-color);\n",
              "    }\n",
              "    60% {\n",
              "      border-color: transparent;\n",
              "      border-right-color: var(--fill-color);\n",
              "    }\n",
              "    80% {\n",
              "      border-color: transparent;\n",
              "      border-right-color: var(--fill-color);\n",
              "      border-bottom-color: var(--fill-color);\n",
              "    }\n",
              "    90% {\n",
              "      border-color: transparent;\n",
              "      border-bottom-color: var(--fill-color);\n",
              "    }\n",
              "  }\n",
              "</style>\n",
              "\n",
              "  <script>\n",
              "    async function quickchart(key) {\n",
              "      const quickchartButtonEl =\n",
              "        document.querySelector('#' + key + ' button');\n",
              "      quickchartButtonEl.disabled = true;  // To prevent multiple clicks.\n",
              "      quickchartButtonEl.classList.add('colab-df-spinner');\n",
              "      try {\n",
              "        const charts = await google.colab.kernel.invokeFunction(\n",
              "            'suggestCharts', [key], {});\n",
              "      } catch (error) {\n",
              "        console.error('Error during call to suggestCharts:', error);\n",
              "      }\n",
              "      quickchartButtonEl.classList.remove('colab-df-spinner');\n",
              "      quickchartButtonEl.classList.add('colab-df-quickchart-complete');\n",
              "    }\n",
              "    (() => {\n",
              "      let quickchartButtonEl =\n",
              "        document.querySelector('#df-199b7d33-fbe1-4265-adf8-0d2896514a59 button');\n",
              "      quickchartButtonEl.style.display =\n",
              "        google.colab.kernel.accessAllowed ? 'block' : 'none';\n",
              "    })();\n",
              "  </script>\n",
              "</div>\n",
              "\n",
              "    </div>\n",
              "  </div>\n"
            ],
            "application/vnd.google.colaboratory.intrinsic+json": {
              "type": "dataframe",
              "variable_name": "test"
            }
          },
          "metadata": {},
          "execution_count": 6
        }
      ]
    },
    {
      "cell_type": "markdown",
      "source": [
        "# Summarize data to see whether it requires cleaning"
      ],
      "metadata": {
        "id": "ngMfEP8jMfh0"
      }
    },
    {
      "cell_type": "markdown",
      "source": [
        "### check missing values"
      ],
      "metadata": {
        "id": "ivLdn0C3SUIA"
      }
    },
    {
      "cell_type": "code",
      "source": [
        "'''function for checking missing values'''\n",
        "\n",
        "import matplotlib.pyplot as plt\n",
        "\n",
        "def check_missing(df):\n",
        "  missing = df.isnull().sum()\n",
        "\n",
        "  if missing.sum() == 0:\n",
        "    print('No missing values!')\n",
        "  else:\n",
        "    plt.figure(figsize=(12, 8))\n",
        "    graph = missing.plot(kind='bar')\n",
        "    graph.set_ylim(0, missing.max()+1)\n",
        "    graph.yaxis.get_major_locator().set_params(integer=True)\n",
        "    plt.title('Missing Values for Each Column')\n",
        "    plt.xlabel('Column')\n",
        "    plt.ylabel('Number of Missing Values')\n",
        "    plt.show()"
      ],
      "metadata": {
        "id": "2_otKpB1MsUJ"
      },
      "execution_count": 7,
      "outputs": []
    },
    {
      "cell_type": "code",
      "source": [
        "check_missing(train)"
      ],
      "metadata": {
        "colab": {
          "base_uri": "https://localhost:8080/"
        },
        "id": "1KBWyJU_QF2E",
        "outputId": "798e5ddd-9e95-4727-deb0-835a5fe01f8b"
      },
      "execution_count": 8,
      "outputs": [
        {
          "output_type": "stream",
          "name": "stdout",
          "text": [
            "No missing values!\n"
          ]
        }
      ]
    },
    {
      "cell_type": "code",
      "source": [
        "check_missing(test)"
      ],
      "metadata": {
        "colab": {
          "base_uri": "https://localhost:8080/"
        },
        "id": "tnKXt3eFReCV",
        "outputId": "17cd421a-6cd6-4673-f015-48bd79b8f9e0"
      },
      "execution_count": 9,
      "outputs": [
        {
          "output_type": "stream",
          "name": "stdout",
          "text": [
            "No missing values!\n"
          ]
        }
      ]
    },
    {
      "cell_type": "markdown",
      "source": [
        "* No missing values appear in the dataset"
      ],
      "metadata": {
        "id": "m5GTL5fASYWy"
      }
    },
    {
      "cell_type": "markdown",
      "source": [
        "### Check whether there are people who have an age of less than 0 or over 100 (indicates wrong records)"
      ],
      "metadata": {
        "id": "k7rekNrMSXQV"
      }
    },
    {
      "cell_type": "code",
      "source": [
        "train[(train['Age'] > 100) | (train['Age'] < 0)]"
      ],
      "metadata": {
        "colab": {
          "base_uri": "https://localhost:8080/",
          "height": 73
        },
        "id": "MPKY65bfTuGH",
        "outputId": "46ac3c61-9ecc-4a67-91cd-769463ea236a"
      },
      "execution_count": 10,
      "outputs": [
        {
          "output_type": "execute_result",
          "data": {
            "text/plain": [
              "Empty DataFrame\n",
              "Columns: [id, CustomerId, Surname, CreditScore, Geography, Gender, Age, Tenure, Balance, NumOfProducts, HasCrCard, IsActiveMember, EstimatedSalary, Exited]\n",
              "Index: []"
            ],
            "text/html": [
              "\n",
              "  <div id=\"df-33e44310-43fc-42dd-8ea2-0e3ccc001a73\" class=\"colab-df-container\">\n",
              "    <div>\n",
              "<style scoped>\n",
              "    .dataframe tbody tr th:only-of-type {\n",
              "        vertical-align: middle;\n",
              "    }\n",
              "\n",
              "    .dataframe tbody tr th {\n",
              "        vertical-align: top;\n",
              "    }\n",
              "\n",
              "    .dataframe thead th {\n",
              "        text-align: right;\n",
              "    }\n",
              "</style>\n",
              "<table border=\"1\" class=\"dataframe\">\n",
              "  <thead>\n",
              "    <tr style=\"text-align: right;\">\n",
              "      <th></th>\n",
              "      <th>id</th>\n",
              "      <th>CustomerId</th>\n",
              "      <th>Surname</th>\n",
              "      <th>CreditScore</th>\n",
              "      <th>Geography</th>\n",
              "      <th>Gender</th>\n",
              "      <th>Age</th>\n",
              "      <th>Tenure</th>\n",
              "      <th>Balance</th>\n",
              "      <th>NumOfProducts</th>\n",
              "      <th>HasCrCard</th>\n",
              "      <th>IsActiveMember</th>\n",
              "      <th>EstimatedSalary</th>\n",
              "      <th>Exited</th>\n",
              "    </tr>\n",
              "  </thead>\n",
              "  <tbody>\n",
              "  </tbody>\n",
              "</table>\n",
              "</div>\n",
              "    <div class=\"colab-df-buttons\">\n",
              "\n",
              "  <div class=\"colab-df-container\">\n",
              "    <button class=\"colab-df-convert\" onclick=\"convertToInteractive('df-33e44310-43fc-42dd-8ea2-0e3ccc001a73')\"\n",
              "            title=\"Convert this dataframe to an interactive table.\"\n",
              "            style=\"display:none;\">\n",
              "\n",
              "  <svg xmlns=\"http://www.w3.org/2000/svg\" height=\"24px\" viewBox=\"0 -960 960 960\">\n",
              "    <path d=\"M120-120v-720h720v720H120Zm60-500h600v-160H180v160Zm220 220h160v-160H400v160Zm0 220h160v-160H400v160ZM180-400h160v-160H180v160Zm440 0h160v-160H620v160ZM180-180h160v-160H180v160Zm440 0h160v-160H620v160Z\"/>\n",
              "  </svg>\n",
              "    </button>\n",
              "\n",
              "  <style>\n",
              "    .colab-df-container {\n",
              "      display:flex;\n",
              "      gap: 12px;\n",
              "    }\n",
              "\n",
              "    .colab-df-convert {\n",
              "      background-color: #E8F0FE;\n",
              "      border: none;\n",
              "      border-radius: 50%;\n",
              "      cursor: pointer;\n",
              "      display: none;\n",
              "      fill: #1967D2;\n",
              "      height: 32px;\n",
              "      padding: 0 0 0 0;\n",
              "      width: 32px;\n",
              "    }\n",
              "\n",
              "    .colab-df-convert:hover {\n",
              "      background-color: #E2EBFA;\n",
              "      box-shadow: 0px 1px 2px rgba(60, 64, 67, 0.3), 0px 1px 3px 1px rgba(60, 64, 67, 0.15);\n",
              "      fill: #174EA6;\n",
              "    }\n",
              "\n",
              "    .colab-df-buttons div {\n",
              "      margin-bottom: 4px;\n",
              "    }\n",
              "\n",
              "    [theme=dark] .colab-df-convert {\n",
              "      background-color: #3B4455;\n",
              "      fill: #D2E3FC;\n",
              "    }\n",
              "\n",
              "    [theme=dark] .colab-df-convert:hover {\n",
              "      background-color: #434B5C;\n",
              "      box-shadow: 0px 1px 3px 1px rgba(0, 0, 0, 0.15);\n",
              "      filter: drop-shadow(0px 1px 2px rgba(0, 0, 0, 0.3));\n",
              "      fill: #FFFFFF;\n",
              "    }\n",
              "  </style>\n",
              "\n",
              "    <script>\n",
              "      const buttonEl =\n",
              "        document.querySelector('#df-33e44310-43fc-42dd-8ea2-0e3ccc001a73 button.colab-df-convert');\n",
              "      buttonEl.style.display =\n",
              "        google.colab.kernel.accessAllowed ? 'block' : 'none';\n",
              "\n",
              "      async function convertToInteractive(key) {\n",
              "        const element = document.querySelector('#df-33e44310-43fc-42dd-8ea2-0e3ccc001a73');\n",
              "        const dataTable =\n",
              "          await google.colab.kernel.invokeFunction('convertToInteractive',\n",
              "                                                    [key], {});\n",
              "        if (!dataTable) return;\n",
              "\n",
              "        const docLinkHtml = 'Like what you see? Visit the ' +\n",
              "          '<a target=\"_blank\" href=https://colab.research.google.com/notebooks/data_table.ipynb>data table notebook</a>'\n",
              "          + ' to learn more about interactive tables.';\n",
              "        element.innerHTML = '';\n",
              "        dataTable['output_type'] = 'display_data';\n",
              "        await google.colab.output.renderOutput(dataTable, element);\n",
              "        const docLink = document.createElement('div');\n",
              "        docLink.innerHTML = docLinkHtml;\n",
              "        element.appendChild(docLink);\n",
              "      }\n",
              "    </script>\n",
              "  </div>\n",
              "\n",
              "\n",
              "    </div>\n",
              "  </div>\n"
            ],
            "application/vnd.google.colaboratory.intrinsic+json": {
              "type": "dataframe",
              "repr_error": "Out of range float values are not JSON compliant: nan"
            }
          },
          "metadata": {},
          "execution_count": 10
        }
      ]
    },
    {
      "cell_type": "code",
      "source": [
        "test[(test['Age'] > 100) | (test['Age'] < 0)]"
      ],
      "metadata": {
        "colab": {
          "base_uri": "https://localhost:8080/",
          "height": 53
        },
        "id": "Pgn8VWJERxSp",
        "outputId": "e775eae8-1dfe-4ab2-8a13-bc8ff972f98b"
      },
      "execution_count": 11,
      "outputs": [
        {
          "output_type": "execute_result",
          "data": {
            "text/plain": [
              "Empty DataFrame\n",
              "Columns: [id, CustomerId, Surname, CreditScore, Geography, Gender, Age, Tenure, Balance, NumOfProducts, HasCrCard, IsActiveMember, EstimatedSalary]\n",
              "Index: []"
            ],
            "text/html": [
              "\n",
              "  <div id=\"df-45ca1e2f-664d-4a00-ada7-c82ee8b64a1b\" class=\"colab-df-container\">\n",
              "    <div>\n",
              "<style scoped>\n",
              "    .dataframe tbody tr th:only-of-type {\n",
              "        vertical-align: middle;\n",
              "    }\n",
              "\n",
              "    .dataframe tbody tr th {\n",
              "        vertical-align: top;\n",
              "    }\n",
              "\n",
              "    .dataframe thead th {\n",
              "        text-align: right;\n",
              "    }\n",
              "</style>\n",
              "<table border=\"1\" class=\"dataframe\">\n",
              "  <thead>\n",
              "    <tr style=\"text-align: right;\">\n",
              "      <th></th>\n",
              "      <th>id</th>\n",
              "      <th>CustomerId</th>\n",
              "      <th>Surname</th>\n",
              "      <th>CreditScore</th>\n",
              "      <th>Geography</th>\n",
              "      <th>Gender</th>\n",
              "      <th>Age</th>\n",
              "      <th>Tenure</th>\n",
              "      <th>Balance</th>\n",
              "      <th>NumOfProducts</th>\n",
              "      <th>HasCrCard</th>\n",
              "      <th>IsActiveMember</th>\n",
              "      <th>EstimatedSalary</th>\n",
              "    </tr>\n",
              "  </thead>\n",
              "  <tbody>\n",
              "  </tbody>\n",
              "</table>\n",
              "</div>\n",
              "    <div class=\"colab-df-buttons\">\n",
              "\n",
              "  <div class=\"colab-df-container\">\n",
              "    <button class=\"colab-df-convert\" onclick=\"convertToInteractive('df-45ca1e2f-664d-4a00-ada7-c82ee8b64a1b')\"\n",
              "            title=\"Convert this dataframe to an interactive table.\"\n",
              "            style=\"display:none;\">\n",
              "\n",
              "  <svg xmlns=\"http://www.w3.org/2000/svg\" height=\"24px\" viewBox=\"0 -960 960 960\">\n",
              "    <path d=\"M120-120v-720h720v720H120Zm60-500h600v-160H180v160Zm220 220h160v-160H400v160Zm0 220h160v-160H400v160ZM180-400h160v-160H180v160Zm440 0h160v-160H620v160ZM180-180h160v-160H180v160Zm440 0h160v-160H620v160Z\"/>\n",
              "  </svg>\n",
              "    </button>\n",
              "\n",
              "  <style>\n",
              "    .colab-df-container {\n",
              "      display:flex;\n",
              "      gap: 12px;\n",
              "    }\n",
              "\n",
              "    .colab-df-convert {\n",
              "      background-color: #E8F0FE;\n",
              "      border: none;\n",
              "      border-radius: 50%;\n",
              "      cursor: pointer;\n",
              "      display: none;\n",
              "      fill: #1967D2;\n",
              "      height: 32px;\n",
              "      padding: 0 0 0 0;\n",
              "      width: 32px;\n",
              "    }\n",
              "\n",
              "    .colab-df-convert:hover {\n",
              "      background-color: #E2EBFA;\n",
              "      box-shadow: 0px 1px 2px rgba(60, 64, 67, 0.3), 0px 1px 3px 1px rgba(60, 64, 67, 0.15);\n",
              "      fill: #174EA6;\n",
              "    }\n",
              "\n",
              "    .colab-df-buttons div {\n",
              "      margin-bottom: 4px;\n",
              "    }\n",
              "\n",
              "    [theme=dark] .colab-df-convert {\n",
              "      background-color: #3B4455;\n",
              "      fill: #D2E3FC;\n",
              "    }\n",
              "\n",
              "    [theme=dark] .colab-df-convert:hover {\n",
              "      background-color: #434B5C;\n",
              "      box-shadow: 0px 1px 3px 1px rgba(0, 0, 0, 0.15);\n",
              "      filter: drop-shadow(0px 1px 2px rgba(0, 0, 0, 0.3));\n",
              "      fill: #FFFFFF;\n",
              "    }\n",
              "  </style>\n",
              "\n",
              "    <script>\n",
              "      const buttonEl =\n",
              "        document.querySelector('#df-45ca1e2f-664d-4a00-ada7-c82ee8b64a1b button.colab-df-convert');\n",
              "      buttonEl.style.display =\n",
              "        google.colab.kernel.accessAllowed ? 'block' : 'none';\n",
              "\n",
              "      async function convertToInteractive(key) {\n",
              "        const element = document.querySelector('#df-45ca1e2f-664d-4a00-ada7-c82ee8b64a1b');\n",
              "        const dataTable =\n",
              "          await google.colab.kernel.invokeFunction('convertToInteractive',\n",
              "                                                    [key], {});\n",
              "        if (!dataTable) return;\n",
              "\n",
              "        const docLinkHtml = 'Like what you see? Visit the ' +\n",
              "          '<a target=\"_blank\" href=https://colab.research.google.com/notebooks/data_table.ipynb>data table notebook</a>'\n",
              "          + ' to learn more about interactive tables.';\n",
              "        element.innerHTML = '';\n",
              "        dataTable['output_type'] = 'display_data';\n",
              "        await google.colab.output.renderOutput(dataTable, element);\n",
              "        const docLink = document.createElement('div');\n",
              "        docLink.innerHTML = docLinkHtml;\n",
              "        element.appendChild(docLink);\n",
              "      }\n",
              "    </script>\n",
              "  </div>\n",
              "\n",
              "\n",
              "    </div>\n",
              "  </div>\n"
            ],
            "application/vnd.google.colaboratory.intrinsic+json": {
              "type": "dataframe",
              "repr_error": "Out of range float values are not JSON compliant: nan"
            }
          },
          "metadata": {},
          "execution_count": 11
        }
      ]
    },
    {
      "cell_type": "markdown",
      "source": [
        "* No wrong records in column \"Age\""
      ],
      "metadata": {
        "id": "WfKAE7PPUli4"
      }
    },
    {
      "cell_type": "markdown",
      "source": [
        "### Check whether there are people who have values other than 0 and 1 in columns \"HasCrCard\" or \"IsActiveMember\" (indicates wrong records)"
      ],
      "metadata": {
        "id": "gVwASTsVUxIM"
      }
    },
    {
      "cell_type": "code",
      "source": [
        "train[['HasCrCard','IsActiveMember']].value_counts()"
      ],
      "metadata": {
        "colab": {
          "base_uri": "https://localhost:8080/"
        },
        "id": "605RNLdzVaNa",
        "outputId": "d052f2ec-c342-4bf6-8cb9-2d125e34f8a7"
      },
      "execution_count": 12,
      "outputs": [
        {
          "output_type": "execute_result",
          "data": {
            "text/plain": [
              "HasCrCard  IsActiveMember\n",
              "1.0        0.0               63239\n",
              "           1.0               61189\n",
              "0.0        1.0               20960\n",
              "           0.0               19646\n",
              "Name: count, dtype: int64"
            ]
          },
          "metadata": {},
          "execution_count": 12
        }
      ]
    },
    {
      "cell_type": "code",
      "source": [
        "test[['HasCrCard','IsActiveMember']].value_counts()"
      ],
      "metadata": {
        "colab": {
          "base_uri": "https://localhost:8080/"
        },
        "id": "BNMBbwu7WWBY",
        "outputId": "d7777636-ff75-419c-9422-dee69aa30641"
      },
      "execution_count": 13,
      "outputs": [
        {
          "output_type": "execute_result",
          "data": {
            "text/plain": [
              "HasCrCard  IsActiveMember\n",
              "1.0        0.0               42468\n",
              "           1.0               40384\n",
              "0.0        1.0               14103\n",
              "           0.0               13068\n",
              "Name: count, dtype: int64"
            ]
          },
          "metadata": {},
          "execution_count": 13
        }
      ]
    },
    {
      "cell_type": "markdown",
      "source": [
        "* There are no incorrect records in either the 'HasCrCard' column or the 'IsActiveMember' column."
      ],
      "metadata": {
        "id": "Pf-TFJvoYYR-"
      }
    },
    {
      "cell_type": "markdown",
      "source": [
        "### Check whether there are people who have weird values in column \"Geography\" or \"Gender\" (indicates wrong records)"
      ],
      "metadata": {
        "id": "OzlVN214YqKg"
      }
    },
    {
      "cell_type": "code",
      "source": [
        "train['Geography'].value_counts()"
      ],
      "metadata": {
        "colab": {
          "base_uri": "https://localhost:8080/"
        },
        "id": "GkqvxnTpZKr0",
        "outputId": "77c49b1e-6f1a-41f1-c209-871d89c43a8d"
      },
      "execution_count": 14,
      "outputs": [
        {
          "output_type": "execute_result",
          "data": {
            "text/plain": [
              "Geography\n",
              "France     94215\n",
              "Spain      36213\n",
              "Germany    34606\n",
              "Name: count, dtype: int64"
            ]
          },
          "metadata": {},
          "execution_count": 14
        }
      ]
    },
    {
      "cell_type": "code",
      "source": [
        "train['Gender'].value_counts()"
      ],
      "metadata": {
        "colab": {
          "base_uri": "https://localhost:8080/"
        },
        "id": "UreaOv0xZYaw",
        "outputId": "6a7497a1-7c00-49e8-8ca4-b7550c4760bf"
      },
      "execution_count": 15,
      "outputs": [
        {
          "output_type": "execute_result",
          "data": {
            "text/plain": [
              "Gender\n",
              "Male      93150\n",
              "Female    71884\n",
              "Name: count, dtype: int64"
            ]
          },
          "metadata": {},
          "execution_count": 15
        }
      ]
    },
    {
      "cell_type": "code",
      "source": [
        "test['Geography'].value_counts()"
      ],
      "metadata": {
        "colab": {
          "base_uri": "https://localhost:8080/"
        },
        "id": "-xMAySB-ZhVk",
        "outputId": "8c3ce5fc-078f-47fc-df03-fd44f2d4d549"
      },
      "execution_count": 16,
      "outputs": [
        {
          "output_type": "execute_result",
          "data": {
            "text/plain": [
              "Geography\n",
              "France     63171\n",
              "Spain      23913\n",
              "Germany    22939\n",
              "Name: count, dtype: int64"
            ]
          },
          "metadata": {},
          "execution_count": 16
        }
      ]
    },
    {
      "cell_type": "code",
      "source": [
        "test['Gender'].value_counts()"
      ],
      "metadata": {
        "colab": {
          "base_uri": "https://localhost:8080/"
        },
        "id": "pYp3MU5KZfpc",
        "outputId": "c19c7bae-35eb-4b6e-fa94-25b9d5ef3f27"
      },
      "execution_count": 17,
      "outputs": [
        {
          "output_type": "execute_result",
          "data": {
            "text/plain": [
              "Gender\n",
              "Male      61942\n",
              "Female    48081\n",
              "Name: count, dtype: int64"
            ]
          },
          "metadata": {},
          "execution_count": 17
        }
      ]
    },
    {
      "cell_type": "markdown",
      "source": [
        "* No wrong records either in column \"Geography\" or in column \"Gender\""
      ],
      "metadata": {
        "id": "c8pyvCf7Zkrp"
      }
    },
    {
      "cell_type": "markdown",
      "source": [
        "### Check whether there are people who have an estimated salary less than 0 (indicates wrong records)"
      ],
      "metadata": {
        "id": "24rlmVhzZsFa"
      }
    },
    {
      "cell_type": "code",
      "source": [
        "train[train['EstimatedSalary'] < 0]"
      ],
      "metadata": {
        "colab": {
          "base_uri": "https://localhost:8080/",
          "height": 73
        },
        "id": "5Kz6vzAtaC79",
        "outputId": "e2496de8-14dd-4b55-fe76-e9ab5e4d76a5"
      },
      "execution_count": 18,
      "outputs": [
        {
          "output_type": "execute_result",
          "data": {
            "text/plain": [
              "Empty DataFrame\n",
              "Columns: [id, CustomerId, Surname, CreditScore, Geography, Gender, Age, Tenure, Balance, NumOfProducts, HasCrCard, IsActiveMember, EstimatedSalary, Exited]\n",
              "Index: []"
            ],
            "text/html": [
              "\n",
              "  <div id=\"df-cf0223bb-8900-4e9e-a44b-dc7ae7bfd664\" class=\"colab-df-container\">\n",
              "    <div>\n",
              "<style scoped>\n",
              "    .dataframe tbody tr th:only-of-type {\n",
              "        vertical-align: middle;\n",
              "    }\n",
              "\n",
              "    .dataframe tbody tr th {\n",
              "        vertical-align: top;\n",
              "    }\n",
              "\n",
              "    .dataframe thead th {\n",
              "        text-align: right;\n",
              "    }\n",
              "</style>\n",
              "<table border=\"1\" class=\"dataframe\">\n",
              "  <thead>\n",
              "    <tr style=\"text-align: right;\">\n",
              "      <th></th>\n",
              "      <th>id</th>\n",
              "      <th>CustomerId</th>\n",
              "      <th>Surname</th>\n",
              "      <th>CreditScore</th>\n",
              "      <th>Geography</th>\n",
              "      <th>Gender</th>\n",
              "      <th>Age</th>\n",
              "      <th>Tenure</th>\n",
              "      <th>Balance</th>\n",
              "      <th>NumOfProducts</th>\n",
              "      <th>HasCrCard</th>\n",
              "      <th>IsActiveMember</th>\n",
              "      <th>EstimatedSalary</th>\n",
              "      <th>Exited</th>\n",
              "    </tr>\n",
              "  </thead>\n",
              "  <tbody>\n",
              "  </tbody>\n",
              "</table>\n",
              "</div>\n",
              "    <div class=\"colab-df-buttons\">\n",
              "\n",
              "  <div class=\"colab-df-container\">\n",
              "    <button class=\"colab-df-convert\" onclick=\"convertToInteractive('df-cf0223bb-8900-4e9e-a44b-dc7ae7bfd664')\"\n",
              "            title=\"Convert this dataframe to an interactive table.\"\n",
              "            style=\"display:none;\">\n",
              "\n",
              "  <svg xmlns=\"http://www.w3.org/2000/svg\" height=\"24px\" viewBox=\"0 -960 960 960\">\n",
              "    <path d=\"M120-120v-720h720v720H120Zm60-500h600v-160H180v160Zm220 220h160v-160H400v160Zm0 220h160v-160H400v160ZM180-400h160v-160H180v160Zm440 0h160v-160H620v160ZM180-180h160v-160H180v160Zm440 0h160v-160H620v160Z\"/>\n",
              "  </svg>\n",
              "    </button>\n",
              "\n",
              "  <style>\n",
              "    .colab-df-container {\n",
              "      display:flex;\n",
              "      gap: 12px;\n",
              "    }\n",
              "\n",
              "    .colab-df-convert {\n",
              "      background-color: #E8F0FE;\n",
              "      border: none;\n",
              "      border-radius: 50%;\n",
              "      cursor: pointer;\n",
              "      display: none;\n",
              "      fill: #1967D2;\n",
              "      height: 32px;\n",
              "      padding: 0 0 0 0;\n",
              "      width: 32px;\n",
              "    }\n",
              "\n",
              "    .colab-df-convert:hover {\n",
              "      background-color: #E2EBFA;\n",
              "      box-shadow: 0px 1px 2px rgba(60, 64, 67, 0.3), 0px 1px 3px 1px rgba(60, 64, 67, 0.15);\n",
              "      fill: #174EA6;\n",
              "    }\n",
              "\n",
              "    .colab-df-buttons div {\n",
              "      margin-bottom: 4px;\n",
              "    }\n",
              "\n",
              "    [theme=dark] .colab-df-convert {\n",
              "      background-color: #3B4455;\n",
              "      fill: #D2E3FC;\n",
              "    }\n",
              "\n",
              "    [theme=dark] .colab-df-convert:hover {\n",
              "      background-color: #434B5C;\n",
              "      box-shadow: 0px 1px 3px 1px rgba(0, 0, 0, 0.15);\n",
              "      filter: drop-shadow(0px 1px 2px rgba(0, 0, 0, 0.3));\n",
              "      fill: #FFFFFF;\n",
              "    }\n",
              "  </style>\n",
              "\n",
              "    <script>\n",
              "      const buttonEl =\n",
              "        document.querySelector('#df-cf0223bb-8900-4e9e-a44b-dc7ae7bfd664 button.colab-df-convert');\n",
              "      buttonEl.style.display =\n",
              "        google.colab.kernel.accessAllowed ? 'block' : 'none';\n",
              "\n",
              "      async function convertToInteractive(key) {\n",
              "        const element = document.querySelector('#df-cf0223bb-8900-4e9e-a44b-dc7ae7bfd664');\n",
              "        const dataTable =\n",
              "          await google.colab.kernel.invokeFunction('convertToInteractive',\n",
              "                                                    [key], {});\n",
              "        if (!dataTable) return;\n",
              "\n",
              "        const docLinkHtml = 'Like what you see? Visit the ' +\n",
              "          '<a target=\"_blank\" href=https://colab.research.google.com/notebooks/data_table.ipynb>data table notebook</a>'\n",
              "          + ' to learn more about interactive tables.';\n",
              "        element.innerHTML = '';\n",
              "        dataTable['output_type'] = 'display_data';\n",
              "        await google.colab.output.renderOutput(dataTable, element);\n",
              "        const docLink = document.createElement('div');\n",
              "        docLink.innerHTML = docLinkHtml;\n",
              "        element.appendChild(docLink);\n",
              "      }\n",
              "    </script>\n",
              "  </div>\n",
              "\n",
              "\n",
              "    </div>\n",
              "  </div>\n"
            ],
            "application/vnd.google.colaboratory.intrinsic+json": {
              "type": "dataframe",
              "repr_error": "Out of range float values are not JSON compliant: nan"
            }
          },
          "metadata": {},
          "execution_count": 18
        }
      ]
    },
    {
      "cell_type": "code",
      "source": [
        "test[test['EstimatedSalary'] < 0]"
      ],
      "metadata": {
        "colab": {
          "base_uri": "https://localhost:8080/",
          "height": 53
        },
        "id": "gs9sfUmRaM64",
        "outputId": "1488e262-cb34-4b89-a9ba-8c8f1d9d4aee"
      },
      "execution_count": 19,
      "outputs": [
        {
          "output_type": "execute_result",
          "data": {
            "text/plain": [
              "Empty DataFrame\n",
              "Columns: [id, CustomerId, Surname, CreditScore, Geography, Gender, Age, Tenure, Balance, NumOfProducts, HasCrCard, IsActiveMember, EstimatedSalary]\n",
              "Index: []"
            ],
            "text/html": [
              "\n",
              "  <div id=\"df-15e705ba-e21a-4b27-91b9-d64e2c544405\" class=\"colab-df-container\">\n",
              "    <div>\n",
              "<style scoped>\n",
              "    .dataframe tbody tr th:only-of-type {\n",
              "        vertical-align: middle;\n",
              "    }\n",
              "\n",
              "    .dataframe tbody tr th {\n",
              "        vertical-align: top;\n",
              "    }\n",
              "\n",
              "    .dataframe thead th {\n",
              "        text-align: right;\n",
              "    }\n",
              "</style>\n",
              "<table border=\"1\" class=\"dataframe\">\n",
              "  <thead>\n",
              "    <tr style=\"text-align: right;\">\n",
              "      <th></th>\n",
              "      <th>id</th>\n",
              "      <th>CustomerId</th>\n",
              "      <th>Surname</th>\n",
              "      <th>CreditScore</th>\n",
              "      <th>Geography</th>\n",
              "      <th>Gender</th>\n",
              "      <th>Age</th>\n",
              "      <th>Tenure</th>\n",
              "      <th>Balance</th>\n",
              "      <th>NumOfProducts</th>\n",
              "      <th>HasCrCard</th>\n",
              "      <th>IsActiveMember</th>\n",
              "      <th>EstimatedSalary</th>\n",
              "    </tr>\n",
              "  </thead>\n",
              "  <tbody>\n",
              "  </tbody>\n",
              "</table>\n",
              "</div>\n",
              "    <div class=\"colab-df-buttons\">\n",
              "\n",
              "  <div class=\"colab-df-container\">\n",
              "    <button class=\"colab-df-convert\" onclick=\"convertToInteractive('df-15e705ba-e21a-4b27-91b9-d64e2c544405')\"\n",
              "            title=\"Convert this dataframe to an interactive table.\"\n",
              "            style=\"display:none;\">\n",
              "\n",
              "  <svg xmlns=\"http://www.w3.org/2000/svg\" height=\"24px\" viewBox=\"0 -960 960 960\">\n",
              "    <path d=\"M120-120v-720h720v720H120Zm60-500h600v-160H180v160Zm220 220h160v-160H400v160Zm0 220h160v-160H400v160ZM180-400h160v-160H180v160Zm440 0h160v-160H620v160ZM180-180h160v-160H180v160Zm440 0h160v-160H620v160Z\"/>\n",
              "  </svg>\n",
              "    </button>\n",
              "\n",
              "  <style>\n",
              "    .colab-df-container {\n",
              "      display:flex;\n",
              "      gap: 12px;\n",
              "    }\n",
              "\n",
              "    .colab-df-convert {\n",
              "      background-color: #E8F0FE;\n",
              "      border: none;\n",
              "      border-radius: 50%;\n",
              "      cursor: pointer;\n",
              "      display: none;\n",
              "      fill: #1967D2;\n",
              "      height: 32px;\n",
              "      padding: 0 0 0 0;\n",
              "      width: 32px;\n",
              "    }\n",
              "\n",
              "    .colab-df-convert:hover {\n",
              "      background-color: #E2EBFA;\n",
              "      box-shadow: 0px 1px 2px rgba(60, 64, 67, 0.3), 0px 1px 3px 1px rgba(60, 64, 67, 0.15);\n",
              "      fill: #174EA6;\n",
              "    }\n",
              "\n",
              "    .colab-df-buttons div {\n",
              "      margin-bottom: 4px;\n",
              "    }\n",
              "\n",
              "    [theme=dark] .colab-df-convert {\n",
              "      background-color: #3B4455;\n",
              "      fill: #D2E3FC;\n",
              "    }\n",
              "\n",
              "    [theme=dark] .colab-df-convert:hover {\n",
              "      background-color: #434B5C;\n",
              "      box-shadow: 0px 1px 3px 1px rgba(0, 0, 0, 0.15);\n",
              "      filter: drop-shadow(0px 1px 2px rgba(0, 0, 0, 0.3));\n",
              "      fill: #FFFFFF;\n",
              "    }\n",
              "  </style>\n",
              "\n",
              "    <script>\n",
              "      const buttonEl =\n",
              "        document.querySelector('#df-15e705ba-e21a-4b27-91b9-d64e2c544405 button.colab-df-convert');\n",
              "      buttonEl.style.display =\n",
              "        google.colab.kernel.accessAllowed ? 'block' : 'none';\n",
              "\n",
              "      async function convertToInteractive(key) {\n",
              "        const element = document.querySelector('#df-15e705ba-e21a-4b27-91b9-d64e2c544405');\n",
              "        const dataTable =\n",
              "          await google.colab.kernel.invokeFunction('convertToInteractive',\n",
              "                                                    [key], {});\n",
              "        if (!dataTable) return;\n",
              "\n",
              "        const docLinkHtml = 'Like what you see? Visit the ' +\n",
              "          '<a target=\"_blank\" href=https://colab.research.google.com/notebooks/data_table.ipynb>data table notebook</a>'\n",
              "          + ' to learn more about interactive tables.';\n",
              "        element.innerHTML = '';\n",
              "        dataTable['output_type'] = 'display_data';\n",
              "        await google.colab.output.renderOutput(dataTable, element);\n",
              "        const docLink = document.createElement('div');\n",
              "        docLink.innerHTML = docLinkHtml;\n",
              "        element.appendChild(docLink);\n",
              "      }\n",
              "    </script>\n",
              "  </div>\n",
              "\n",
              "\n",
              "    </div>\n",
              "  </div>\n"
            ],
            "application/vnd.google.colaboratory.intrinsic+json": {
              "type": "dataframe",
              "repr_error": "Out of range float values are not JSON compliant: nan"
            }
          },
          "metadata": {},
          "execution_count": 19
        }
      ]
    },
    {
      "cell_type": "markdown",
      "source": [
        "* No wrong records in column \"EstimatedSalary\""
      ],
      "metadata": {
        "id": "U2LqH1IVaPWO"
      }
    },
    {
      "cell_type": "markdown",
      "source": [
        "# Since there are no wrong or weird records in both the train and test dataset, we can start with data preprocessing"
      ],
      "metadata": {
        "id": "pHL7d1MWaeMt"
      }
    },
    {
      "cell_type": "markdown",
      "source": [
        "check the distribution of category"
      ],
      "metadata": {
        "id": "VrENh9BY2GlF"
      }
    },
    {
      "cell_type": "code",
      "source": [
        "train['Exited'].value_counts().plot(kind='pie', autopct='%1.1f%%')"
      ],
      "metadata": {
        "colab": {
          "base_uri": "https://localhost:8080/",
          "height": 424
        },
        "id": "YJ7FJAVclPRV",
        "outputId": "da82a567-a157-42cb-b5ea-4649f3b81098"
      },
      "execution_count": 20,
      "outputs": [
        {
          "output_type": "execute_result",
          "data": {
            "text/plain": [
              "<Axes: ylabel='count'>"
            ]
          },
          "metadata": {},
          "execution_count": 20
        },
        {
          "output_type": "display_data",
          "data": {
            "text/plain": [
              "<Figure size 640x480 with 1 Axes>"
            ],
            "image/png": "[encoded data removed]"
          },
          "metadata": {}
        }
      ]
    },
    {
      "cell_type": "markdown",
      "source": [
        "* It seems like there is a problem of unbalanced data in the training dataset, so steps of balancing data are required"
      ],
      "metadata": {
        "id": "TzmYOQX9n137"
      }
    },
    {
      "cell_type": "code",
      "source": [
        "x = train.drop(['Exited', 'id', 'CustomerId', 'Surname'], axis=1)\n",
        "y = train['Exited']"
      ],
      "metadata": {
        "id": "yqkzTW3mk28x"
      },
      "execution_count": 21,
      "outputs": []
    },
    {
      "cell_type": "code",
      "source": [
        "'''Encode non-float value to allow for KNN and SVM machine learning'''\n",
        "\n",
        "from sklearn.preprocessing import LabelEncoder\n",
        "\n",
        "labelencoder1 = LabelEncoder()\n",
        "labelencoder2 = LabelEncoder()\n",
        "x['Geography'] = labelencoder1.fit_transform(x['Geography'])\n",
        "x['Gender'] = labelencoder2.fit_transform(x['Gender'])\n",
        "x"
      ],
      "metadata": {
        "colab": {
          "base_uri": "https://localhost:8080/",
          "height": 423
        },
        "id": "NciBS71c2UcJ",
        "outputId": "172d956c-b1e3-45c8-93ee-882bfa6eb943"
      },
      "execution_count": 22,
      "outputs": [
        {
          "output_type": "execute_result",
          "data": {
            "text/plain": [
              "        CreditScore  Geography  Gender   Age  Tenure    Balance  \\\n",
              "0               668          0       1  33.0       3       0.00   \n",
              "1               627          0       1  33.0       1       0.00   \n",
              "2               678          0       1  40.0      10       0.00   \n",
              "3               581          0       1  34.0       2  148882.54   \n",
              "4               716          2       1  33.0       5       0.00   \n",
              "...             ...        ...     ...   ...     ...        ...   \n",
              "165029          667          2       0  33.0       2       0.00   \n",
              "165030          792          0       1  35.0       3       0.00   \n",
              "165031          565          0       1  31.0       5       0.00   \n",
              "165032          554          2       0  30.0       7  161533.00   \n",
              "165033          850          0       1  31.0       1       0.00   \n",
              "\n",
              "        NumOfProducts  HasCrCard  IsActiveMember  EstimatedSalary  \n",
              "0                   2        1.0             0.0        181449.97  \n",
              "1                   2        1.0             1.0         49503.50  \n",
              "2                   2        1.0             0.0        184866.69  \n",
              "3                   1        1.0             1.0         84560.88  \n",
              "4                   2        1.0             1.0         15068.83  \n",
              "...               ...        ...             ...              ...  \n",
              "165029              1        1.0             1.0        131834.75  \n",
              "165030              1        0.0             0.0        131834.45  \n",
              "165031              1        1.0             1.0        127429.56  \n",
              "165032              1        0.0             1.0         71173.03  \n",
              "165033              1        1.0             0.0         61581.79  \n",
              "\n",
              "[165034 rows x 10 columns]"
            ],
            "text/html": [
              "\n",
              "  <div id=\"df-25db7cec-486e-49e4-b036-1deb7538ccba\" class=\"colab-df-container\">\n",
              "    <div>\n",
              "<style scoped>\n",
              "    .dataframe tbody tr th:only-of-type {\n",
              "        vertical-align: middle;\n",
              "    }\n",
              "\n",
              "    .dataframe tbody tr th {\n",
              "        vertical-align: top;\n",
              "    }\n",
              "\n",
              "    .dataframe thead th {\n",
              "        text-align: right;\n",
              "    }\n",
              "</style>\n",
              "<table border=\"1\" class=\"dataframe\">\n",
              "  <thead>\n",
              "    <tr style=\"text-align: right;\">\n",
              "      <th></th>\n",
              "      <th>CreditScore</th>\n",
              "      <th>Geography</th>\n",
              "      <th>Gender</th>\n",
              "      <th>Age</th>\n",
              "      <th>Tenure</th>\n",
              "      <th>Balance</th>\n",
              "      <th>NumOfProducts</th>\n",
              "      <th>HasCrCard</th>\n",
              "      <th>IsActiveMember</th>\n",
              "      <th>EstimatedSalary</th>\n",
              "    </tr>\n",
              "  </thead>\n",
              "  <tbody>\n",
              "    <tr>\n",
              "      <th>0</th>\n",
              "      <td>668</td>\n",
              "      <td>0</td>\n",
              "      <td>1</td>\n",
              "      <td>33.0</td>\n",
              "      <td>3</td>\n",
              "      <td>0.00</td>\n",
              "      <td>2</td>\n",
              "      <td>1.0</td>\n",
              "      <td>0.0</td>\n",
              "      <td>181449.97</td>\n",
              "    </tr>\n",
              "    <tr>\n",
              "      <th>1</th>\n",
              "      <td>627</td>\n",
              "      <td>0</td>\n",
              "      <td>1</td>\n",
              "      <td>33.0</td>\n",
              "      <td>1</td>\n",
              "      <td>0.00</td>\n",
              "      <td>2</td>\n",
              "      <td>1.0</td>\n",
              "      <td>1.0</td>\n",
              "      <td>49503.50</td>\n",
              "    </tr>\n",
              "    <tr>\n",
              "      <th>2</th>\n",
              "      <td>678</td>\n",
              "      <td>0</td>\n",
              "      <td>1</td>\n",
              "      <td>40.0</td>\n",
              "      <td>10</td>\n",
              "      <td>0.00</td>\n",
              "      <td>2</td>\n",
              "      <td>1.0</td>\n",
              "      <td>0.0</td>\n",
              "      <td>184866.69</td>\n",
              "    </tr>\n",
              "    <tr>\n",
              "      <th>3</th>\n",
              "      <td>581</td>\n",
              "      <td>0</td>\n",
              "      <td>1</td>\n",
              "      <td>34.0</td>\n",
              "      <td>2</td>\n",
              "      <td>148882.54</td>\n",
              "      <td>1</td>\n",
              "      <td>1.0</td>\n",
              "      <td>1.0</td>\n",
              "      <td>84560.88</td>\n",
              "    </tr>\n",
              "    <tr>\n",
              "      <th>4</th>\n",
              "      <td>716</td>\n",
              "      <td>2</td>\n",
              "      <td>1</td>\n",
              "      <td>33.0</td>\n",
              "      <td>5</td>\n",
              "      <td>0.00</td>\n",
              "      <td>2</td>\n",
              "      <td>1.0</td>\n",
              "      <td>1.0</td>\n",
              "      <td>15068.83</td>\n",
              "    </tr>\n",
              "    <tr>\n",
              "      <th>...</th>\n",
              "      <td>...</td>\n",
              "      <td>...</td>\n",
              "      <td>...</td>\n",
              "      <td>...</td>\n",
              "      <td>...</td>\n",
              "      <td>...</td>\n",
              "      <td>...</td>\n",
              "      <td>...</td>\n",
              "      <td>...</td>\n",
              "      <td>...</td>\n",
              "    </tr>\n",
              "    <tr>\n",
              "      <th>165029</th>\n",
              "      <td>667</td>\n",
              "      <td>2</td>\n",
              "      <td>0</td>\n",
              "      <td>33.0</td>\n",
              "      <td>2</td>\n",
              "      <td>0.00</td>\n",
              "      <td>1</td>\n",
              "      <td>1.0</td>\n",
              "      <td>1.0</td>\n",
              "      <td>131834.75</td>\n",
              "    </tr>\n",
              "    <tr>\n",
              "      <th>165030</th>\n",
              "      <td>792</td>\n",
              "      <td>0</td>\n",
              "      <td>1</td>\n",
              "      <td>35.0</td>\n",
              "      <td>3</td>\n",
              "      <td>0.00</td>\n",
              "      <td>1</td>\n",
              "      <td>0.0</td>\n",
              "      <td>0.0</td>\n",
              "      <td>131834.45</td>\n",
              "    </tr>\n",
              "    <tr>\n",
              "      <th>165031</th>\n",
              "      <td>565</td>\n",
              "      <td>0</td>\n",
              "      <td>1</td>\n",
              "      <td>31.0</td>\n",
              "      <td>5</td>\n",
              "      <td>0.00</td>\n",
              "      <td>1</td>\n",
              "      <td>1.0</td>\n",
              "      <td>1.0</td>\n",
              "      <td>127429.56</td>\n",
              "    </tr>\n",
              "    <tr>\n",
              "      <th>165032</th>\n",
              "      <td>554</td>\n",
              "      <td>2</td>\n",
              "      <td>0</td>\n",
              "      <td>30.0</td>\n",
              "      <td>7</td>\n",
              "      <td>161533.00</td>\n",
              "      <td>1</td>\n",
              "      <td>0.0</td>\n",
              "      <td>1.0</td>\n",
              "      <td>71173.03</td>\n",
              "    </tr>\n",
              "    <tr>\n",
              "      <th>165033</th>\n",
              "      <td>850</td>\n",
              "      <td>0</td>\n",
              "      <td>1</td>\n",
              "      <td>31.0</td>\n",
              "      <td>1</td>\n",
              "      <td>0.00</td>\n",
              "      <td>1</td>\n",
              "      <td>1.0</td>\n",
              "      <td>0.0</td>\n",
              "      <td>61581.79</td>\n",
              "    </tr>\n",
              "  </tbody>\n",
              "</table>\n",
              "<p>165034 rows × 10 columns</p>\n",
              "</div>\n",
              "    <div class=\"colab-df-buttons\">\n",
              "\n",
              "  <div class=\"colab-df-container\">\n",
              "    <button class=\"colab-df-convert\" onclick=\"convertToInteractive('df-25db7cec-486e-49e4-b036-1deb7538ccba')\"\n",
              "            title=\"Convert this dataframe to an interactive table.\"\n",
              "            style=\"display:none;\">\n",
              "\n",
              "  <svg xmlns=\"http://www.w3.org/2000/svg\" height=\"24px\" viewBox=\"0 -960 960 960\">\n",
              "    <path d=\"M120-120v-720h720v720H120Zm60-500h600v-160H180v160Zm220 220h160v-160H400v160Zm0 220h160v-160H400v160ZM180-400h160v-160H180v160Zm440 0h160v-160H620v160ZM180-180h160v-160H180v160Zm440 0h160v-160H620v160Z\"/>\n",
              "  </svg>\n",
              "    </button>\n",
              "\n",
              "  <style>\n",
              "    .colab-df-container {\n",
              "      display:flex;\n",
              "      gap: 12px;\n",
              "    }\n",
              "\n",
              "    .colab-df-convert {\n",
              "      background-color: #E8F0FE;\n",
              "      border: none;\n",
              "      border-radius: 50%;\n",
              "      cursor: pointer;\n",
              "      display: none;\n",
              "      fill: #1967D2;\n",
              "      height: 32px;\n",
              "      padding: 0 0 0 0;\n",
              "      width: 32px;\n",
              "    }\n",
              "\n",
              "    .colab-df-convert:hover {\n",
              "      background-color: #E2EBFA;\n",
              "      box-shadow: 0px 1px 2px rgba(60, 64, 67, 0.3), 0px 1px 3px 1px rgba(60, 64, 67, 0.15);\n",
              "      fill: #174EA6;\n",
              "    }\n",
              "\n",
              "    .colab-df-buttons div {\n",
              "      margin-bottom: 4px;\n",
              "    }\n",
              "\n",
              "    [theme=dark] .colab-df-convert {\n",
              "      background-color: #3B4455;\n",
              "      fill: #D2E3FC;\n",
              "    }\n",
              "\n",
              "    [theme=dark] .colab-df-convert:hover {\n",
              "      background-color: #434B5C;\n",
              "      box-shadow: 0px 1px 3px 1px rgba(0, 0, 0, 0.15);\n",
              "      filter: drop-shadow(0px 1px 2px rgba(0, 0, 0, 0.3));\n",
              "      fill: #FFFFFF;\n",
              "    }\n",
              "  </style>\n",
              "\n",
              "    <script>\n",
              "      const buttonEl =\n",
              "        document.querySelector('#df-25db7cec-486e-49e4-b036-1deb7538ccba button.colab-df-convert');\n",
              "      buttonEl.style.display =\n",
              "        google.colab.kernel.accessAllowed ? 'block' : 'none';\n",
              "\n",
              "      async function convertToInteractive(key) {\n",
              "        const element = document.querySelector('#df-25db7cec-486e-49e4-b036-1deb7538ccba');\n",
              "        const dataTable =\n",
              "          await google.colab.kernel.invokeFunction('convertToInteractive',\n",
              "                                                    [key], {});\n",
              "        if (!dataTable) return;\n",
              "\n",
              "        const docLinkHtml = 'Like what you see? Visit the ' +\n",
              "          '<a target=\"_blank\" href=https://colab.research.google.com/notebooks/data_table.ipynb>data table notebook</a>'\n",
              "          + ' to learn more about interactive tables.';\n",
              "        element.innerHTML = '';\n",
              "        dataTable['output_type'] = 'display_data';\n",
              "        await google.colab.output.renderOutput(dataTable, element);\n",
              "        const docLink = document.createElement('div');\n",
              "        docLink.innerHTML = docLinkHtml;\n",
              "        element.appendChild(docLink);\n",
              "      }\n",
              "    </script>\n",
              "  </div>\n",
              "\n",
              "\n",
              "<div id=\"df-e58269bc-78c5-430a-bb9a-e0a1d639e6ae\">\n",
              "  <button class=\"colab-df-quickchart\" onclick=\"quickchart('df-e58269bc-78c5-430a-bb9a-e0a1d639e6ae')\"\n",
              "            title=\"Suggest charts\"\n",
              "            style=\"display:none;\">\n",
              "\n",
              "<svg xmlns=\"http://www.w3.org/2000/svg\" height=\"24px\"viewBox=\"0 0 24 24\"\n",
              "     width=\"24px\">\n",
              "    <g>\n",
              "        <path d=\"M19 3H5c-1.1 0-2 .9-2 2v14c0 1.1.9 2 2 2h14c1.1 0 2-.9 2-2V5c0-1.1-.9-2-2-2zM9 17H7v-7h2v7zm4 0h-2V7h2v10zm4 0h-2v-4h2v4z\"/>\n",
              "    </g>\n",
              "</svg>\n",
              "  </button>\n",
              "\n",
              "<style>\n",
              "  .colab-df-quickchart {\n",
              "      --bg-color: #E8F0FE;\n",
              "      --fill-color: #1967D2;\n",
              "      --hover-bg-color: #E2EBFA;\n",
              "      --hover-fill-color: #174EA6;\n",
              "      --disabled-fill-color: #AAA;\n",
              "      --disabled-bg-color: #DDD;\n",
              "  }\n",
              "\n",
              "  [theme=dark] .colab-df-quickchart {\n",
              "      --bg-color: #3B4455;\n",
              "      --fill-color: #D2E3FC;\n",
              "      --hover-bg-color: #434B5C;\n",
              "      --hover-fill-color: #FFFFFF;\n",
              "      --disabled-bg-color: #3B4455;\n",
              "      --disabled-fill-color: #666;\n",
              "  }\n",
              "\n",
              "  .colab-df-quickchart {\n",
              "    background-color: var(--bg-color);\n",
              "    border: none;\n",
              "    border-radius: 50%;\n",
              "    cursor: pointer;\n",
              "    display: none;\n",
              "    fill: var(--fill-color);\n",
              "    height: 32px;\n",
              "    padding: 0;\n",
              "    width: 32px;\n",
              "  }\n",
              "\n",
              "  .colab-df-quickchart:hover {\n",
              "    background-color: var(--hover-bg-color);\n",
              "    box-shadow: 0 1px 2px rgba(60, 64, 67, 0.3), 0 1px 3px 1px rgba(60, 64, 67, 0.15);\n",
              "    fill: var(--button-hover-fill-color);\n",
              "  }\n",
              "\n",
              "  .colab-df-quickchart-complete:disabled,\n",
              "  .colab-df-quickchart-complete:disabled:hover {\n",
              "    background-color: var(--disabled-bg-color);\n",
              "    fill: var(--disabled-fill-color);\n",
              "    box-shadow: none;\n",
              "  }\n",
              "\n",
              "  .colab-df-spinner {\n",
              "    border: 2px solid var(--fill-color);\n",
              "    border-color: transparent;\n",
              "    border-bottom-color: var(--fill-color);\n",
              "    animation:\n",
              "      spin 1s steps(1) infinite;\n",
              "  }\n",
              "\n",
              "  @keyframes spin {\n",
              "    0% {\n",
              "      border-color: transparent;\n",
              "      border-bottom-color: var(--fill-color);\n",
              "      border-left-color: var(--fill-color);\n",
              "    }\n",
              "    20% {\n",
              "      border-color: transparent;\n",
              "      border-left-color: var(--fill-color);\n",
              "      border-top-color: var(--fill-color);\n",
              "    }\n",
              "    30% {\n",
              "      border-color: transparent;\n",
              "      border-left-color: var(--fill-color);\n",
              "      border-top-color: var(--fill-color);\n",
              "      border-right-color: var(--fill-color);\n",
              "    }\n",
              "    40% {\n",
              "      border-color: transparent;\n",
              "      border-right-color: var(--fill-color);\n",
              "      border-top-color: var(--fill-color);\n",
              "    }\n",
              "    60% {\n",
              "      border-color: transparent;\n",
              "      border-right-color: var(--fill-color);\n",
              "    }\n",
              "    80% {\n",
              "      border-color: transparent;\n",
              "      border-right-color: var(--fill-color);\n",
              "      border-bottom-color: var(--fill-color);\n",
              "    }\n",
              "    90% {\n",
              "      border-color: transparent;\n",
              "      border-bottom-color: var(--fill-color);\n",
              "    }\n",
              "  }\n",
              "</style>\n",
              "\n",
              "  <script>\n",
              "    async function quickchart(key) {\n",
              "      const quickchartButtonEl =\n",
              "        document.querySelector('#' + key + ' button');\n",
              "      quickchartButtonEl.disabled = true;  // To prevent multiple clicks.\n",
              "      quickchartButtonEl.classList.add('colab-df-spinner');\n",
              "      try {\n",
              "        const charts = await google.colab.kernel.invokeFunction(\n",
              "            'suggestCharts', [key], {});\n",
              "      } catch (error) {\n",
              "        console.error('Error during call to suggestCharts:', error);\n",
              "      }\n",
              "      quickchartButtonEl.classList.remove('colab-df-spinner');\n",
              "      quickchartButtonEl.classList.add('colab-df-quickchart-complete');\n",
              "    }\n",
              "    (() => {\n",
              "      let quickchartButtonEl =\n",
              "        document.querySelector('#df-e58269bc-78c5-430a-bb9a-e0a1d639e6ae button');\n",
              "      quickchartButtonEl.style.display =\n",
              "        google.colab.kernel.accessAllowed ? 'block' : 'none';\n",
              "    })();\n",
              "  </script>\n",
              "</div>\n",
              "\n",
              "  <div id=\"id_6ad653ba-ada8-4720-bdb5-2108a544a79f\">\n",
              "    <style>\n",
              "      .colab-df-generate {\n",
              "        background-color: #E8F0FE;\n",
              "        border: none;\n",
              "        border-radius: 50%;\n",
              "        cursor: pointer;\n",
              "        display: none;\n",
              "        fill: #1967D2;\n",
              "        height: 32px;\n",
              "        padding: 0 0 0 0;\n",
              "        width: 32px;\n",
              "      }\n",
              "\n",
              "      .colab-df-generate:hover {\n",
              "        background-color: #E2EBFA;\n",
              "        box-shadow: 0px 1px 2px rgba(60, 64, 67, 0.3), 0px 1px 3px 1px rgba(60, 64, 67, 0.15);\n",
              "        fill: #174EA6;\n",
              "      }\n",
              "\n",
              "      [theme=dark] .colab-df-generate {\n",
              "        background-color: #3B4455;\n",
              "        fill: #D2E3FC;\n",
              "      }\n",
              "\n",
              "      [theme=dark] .colab-df-generate:hover {\n",
              "        background-color: #434B5C;\n",
              "        box-shadow: 0px 1px 3px 1px rgba(0, 0, 0, 0.15);\n",
              "        filter: drop-shadow(0px 1px 2px rgba(0, 0, 0, 0.3));\n",
              "        fill: #FFFFFF;\n",
              "      }\n",
              "    </style>\n",
              "    <button class=\"colab-df-generate\" onclick=\"generateWithVariable('x')\"\n",
              "            title=\"Generate code using this dataframe.\"\n",
              "            style=\"display:none;\">\n",
              "\n",
              "  <svg xmlns=\"http://www.w3.org/2000/svg\" height=\"24px\"viewBox=\"0 0 24 24\"\n",
              "       width=\"24px\">\n",
              "    <path d=\"M7,19H8.4L18.45,9,17,7.55,7,17.6ZM5,21V16.75L18.45,3.32a2,2,0,0,1,2.83,0l1.4,1.43a1.91,1.91,0,0,1,.58,1.4,1.91,1.91,0,0,1-.58,1.4L9.25,21ZM18.45,9,17,7.55Zm-12,3A5.31,5.31,0,0,0,4.9,8.1,5.31,5.31,0,0,0,1,6.5,5.31,5.31,0,0,0,4.9,4.9,5.31,5.31,0,0,0,6.5,1,5.31,5.31,0,0,0,8.1,4.9,5.31,5.31,0,0,0,12,6.5,5.46,5.46,0,0,0,6.5,12Z\"/>\n",
              "  </svg>\n",
              "    </button>\n",
              "    <script>\n",
              "      (() => {\n",
              "      const buttonEl =\n",
              "        document.querySelector('#id_6ad653ba-ada8-4720-bdb5-2108a544a79f button.colab-df-generate');\n",
              "      buttonEl.style.display =\n",
              "        google.colab.kernel.accessAllowed ? 'block' : 'none';\n",
              "\n",
              "      buttonEl.onclick = () => {\n",
              "        google.colab.notebook.generateWithVariable('x');\n",
              "      }\n",
              "      })();\n",
              "    </script>\n",
              "  </div>\n",
              "\n",
              "    </div>\n",
              "  </div>\n"
            ],
            "application/vnd.google.colaboratory.intrinsic+json": {
              "type": "dataframe",
              "variable_name": "x"
            }
          },
          "metadata": {},
          "execution_count": 22
        }
      ]
    },
    {
      "cell_type": "markdown",
      "source": [
        "Since the values in columns \"Balance\" and \"EstimatedSalary\" are widely distributed, it is suggested to make them within 0 to 1"
      ],
      "metadata": {
        "id": "425SWKkgwc9r"
      }
    },
    {
      "cell_type": "code",
      "source": [
        "from sklearn.preprocessing import MinMaxScaler\n",
        "\n",
        "scaler = MinMaxScaler()\n",
        "x = scaler.fit_transform(x)\n",
        "\n",
        "x"
      ],
      "metadata": {
        "colab": {
          "base_uri": "https://localhost:8080/"
        },
        "id": "kkld0mRtLbtv",
        "outputId": "e14e04a8-4454-45a8-a092-63178af62179"
      },
      "execution_count": 23,
      "outputs": [
        {
          "output_type": "execute_result",
          "data": {
            "text/plain": [
              "array([[0.636     , 0.        , 1.        , ..., 1.        , 0.        ,\n",
              "        0.9072786 ],\n",
              "       [0.554     , 0.        , 1.        , ..., 1.        , 1.        ,\n",
              "        0.24748323],\n",
              "       [0.656     , 0.        , 1.        , ..., 1.        , 0.        ,\n",
              "        0.92436383],\n",
              "       ...,\n",
              "       [0.43      , 0.        , 1.        , ..., 1.        , 1.        ,\n",
              "        0.63715075],\n",
              "       [0.408     , 1.        , 0.        , ..., 0.        , 1.        ,\n",
              "        0.35584123],\n",
              "       [1.        , 0.        , 1.        , ..., 1.        , 0.        ,\n",
              "        0.30788045]])"
            ]
          },
          "metadata": {},
          "execution_count": 23
        }
      ]
    },
    {
      "cell_type": "markdown",
      "source": [
        "Split the dataset into training and validation set"
      ],
      "metadata": {
        "id": "g7lScv3uwg7o"
      }
    },
    {
      "cell_type": "code",
      "source": [
        "from sklearn.model_selection import train_test_split\n",
        "\n",
        "x_train, x_val, y_train, y_val = train_test_split(x, y, test_size=0.2, random_state=42)"
      ],
      "metadata": {
        "id": "-_e_yZyamUg3"
      },
      "execution_count": 24,
      "outputs": []
    },
    {
      "cell_type": "markdown",
      "source": [
        "As previously stated, there is a problem of unbalanced data, let's use oversample to balance the training data"
      ],
      "metadata": {
        "id": "EMy1CxOQwjc3"
      }
    },
    {
      "cell_type": "code",
      "source": [
        "from imblearn.over_sampling import RandomOverSampler\n",
        "\n",
        "ROS = RandomOverSampler(random_state=42)\n",
        "x_train, y_train = ROS.fit_resample(x_train, y_train)"
      ],
      "metadata": {
        "id": "kn8hXE3RoCkb"
      },
      "execution_count": 25,
      "outputs": []
    },
    {
      "cell_type": "code",
      "source": [
        "y_train.value_counts().plot(kind='pie', autopct='%1.1f%%')"
      ],
      "metadata": {
        "colab": {
          "base_uri": "https://localhost:8080/",
          "height": 424
        },
        "id": "HS3aNgNh3DY2",
        "outputId": "b7f537f7-ee1b-46fe-cc2d-b7d341e17102"
      },
      "execution_count": 26,
      "outputs": [
        {
          "output_type": "execute_result",
          "data": {
            "text/plain": [
              "<Axes: ylabel='count'>"
            ]
          },
          "metadata": {},
          "execution_count": 26
        },
        {
          "output_type": "display_data",
          "data": {
            "text/plain": [
              "<Figure size 640x480 with 1 Axes>"
            ],
            "image/png": "[encoded data removed]"
          },
          "metadata": {}
        }
      ]
    },
    {
      "cell_type": "markdown",
      "source": [
        "* The data is successfully balanced"
      ],
      "metadata": {
        "id": "zjZrBpqO3Ntr"
      }
    },
    {
      "cell_type": "markdown",
      "source": [
        "# After data preprocessing, let's build predictive models using different methods (and record each method's performance)."
      ],
      "metadata": {
        "id": "CYWdnSYGo1UX"
      }
    },
    {
      "cell_type": "code",
      "source": [
        "from sklearn.model_selection import GridSearchCV\n",
        "from sklearn.metrics import f1_score, accuracy_score, confusion_matrix\n",
        "\n",
        "results = {}"
      ],
      "metadata": {
        "id": "PiFPwTcHtL3v"
      },
      "execution_count": 27,
      "outputs": []
    },
    {
      "cell_type": "markdown",
      "source": [
        "KNN method"
      ],
      "metadata": {
        "id": "Y4Rag7Xur0lr"
      }
    },
    {
      "cell_type": "code",
      "source": [
        "from sklearn.neighbors import KNeighborsClassifier\n",
        "\n",
        "def train_test_knn(x_train, y_train, x_val, y_val):\n",
        "  param_grid = {'n_neighbors': [3, 7, 11],\n",
        "          'weights': ['uniform', 'distance']}\n",
        "  knn = KNeighborsClassifier()\n",
        "  grid_search = GridSearchCV(knn, param_grid, cv=10, scoring='f1')\n",
        "  grid_search.fit(x_train, y_train)\n",
        "  best_knn = grid_search.best_estimator_\n",
        "  y_val_pred = best_knn.predict(x_val)\n",
        "  f1 = f1_score(y_val, y_val_pred)\n",
        "  accuracy = accuracy_score(y_val, y_val_pred)\n",
        "  conf_matrix = confusion_matrix(y_val, y_val_pred)\n",
        "  return {'model': 'KNN', 'best_model': best_knn, 'f1': f1, 'accuracy': accuracy, 'conf_matrix': conf_matrix}\n",
        "\n",
        "results['KNN'] = train_test_knn(x_train, y_train, x_val, y_val)"
      ],
      "metadata": {
        "id": "PJGLFDpHpCEV"
      },
      "execution_count": 28,
      "outputs": []
    },
    {
      "cell_type": "code",
      "source": [
        "results['KNN']"
      ],
      "metadata": {
        "colab": {
          "base_uri": "https://localhost:8080/"
        },
        "id": "H9ck4U8zPx6h",
        "outputId": "49340d41-fbb4-4bf0-b6f8-6403df05388e"
      },
      "execution_count": 29,
      "outputs": [
        {
          "output_type": "execute_result",
          "data": {
            "text/plain": [
              "{'model': 'KNN',\n",
              " 'best_model': KNeighborsClassifier(n_neighbors=3, weights='distance'),\n",
              " 'f1': 0.5591177534048452,\n",
              " 'accuracy': 0.7783500469597359,\n",
              " 'conf_matrix': array([[21052,  5000],\n",
              "        [ 2316,  4639]])}"
            ]
          },
          "metadata": {},
          "execution_count": 29
        }
      ]
    },
    {
      "cell_type": "markdown",
      "source": [
        "Logistic Regression"
      ],
      "metadata": {
        "id": "9-EXEt7RulRP"
      }
    },
    {
      "cell_type": "code",
      "source": [
        "from sklearn.linear_model import LogisticRegression\n",
        "\n",
        "def train_test_logistic_regression(x_train, y_train, x_val, y_val):\n",
        "  param_grid = {'C': [0.1, 10, 1000],\n",
        "          'penalty': ['l1', 'l2'],\n",
        "          'solver': ['liblinear', 'saga']}\n",
        "\n",
        "  log_reg = LogisticRegression(max_iter=10000, random_state=42, class_weight='balanced')\n",
        "  grid_search = GridSearchCV(log_reg, param_grid, cv=10, scoring='f1')\n",
        "  grid_search.fit(x_train, y_train)\n",
        "  best_log_reg = grid_search.best_estimator_\n",
        "  y_val_pred = best_log_reg.predict(x_val)\n",
        "  f1 = f1_score(y_val, y_val_pred)\n",
        "  accuracy = accuracy_score(y_val, y_val_pred)\n",
        "  conf_matrix = confusion_matrix(y_val, y_val_pred)\n",
        "  return {'model': 'Logistic Regression', 'best_model': best_log_reg, 'f1': f1, 'accuracy': accuracy, 'conf_matrix': conf_matrix}\n",
        "\n",
        "\n",
        "results['Logistic Regression'] = train_test_logistic_regression(x_train, y_train, x_val, y_val)"
      ],
      "metadata": {
        "id": "r2FJJt9Lun2N"
      },
      "execution_count": 30,
      "outputs": []
    },
    {
      "cell_type": "code",
      "source": [
        "results['Logistic Regression']"
      ],
      "metadata": {
        "colab": {
          "base_uri": "https://localhost:8080/"
        },
        "id": "tQC6gmiliCpI",
        "outputId": "25d87c55-efe9-4a5c-c199-19625f9ba6a7"
      },
      "execution_count": 31,
      "outputs": [
        {
          "output_type": "execute_result",
          "data": {
            "text/plain": [
              "{'model': 'Logistic Regression',\n",
              " 'best_model': LogisticRegression(C=0.1, class_weight='balanced', max_iter=10000, penalty='l1',\n",
              "                    random_state=42, solver='liblinear'),\n",
              " 'f1': 0.5483853806458477,\n",
              " 'accuracy': 0.7428121307601417,\n",
              " 'conf_matrix': array([[19364,  6688],\n",
              "        [ 1801,  5154]])}"
            ]
          },
          "metadata": {},
          "execution_count": 31
        }
      ]
    },
    {
      "cell_type": "markdown",
      "source": [
        "XGBoost method"
      ],
      "metadata": {
        "id": "pr2gTl6fwQ_F"
      }
    },
    {
      "cell_type": "code",
      "source": [
        "from xgboost import XGBClassifier\n",
        "\n",
        "def train_test_xgb(x_train, y_train, x_val, y_val):\n",
        "  param_grid = {'n_estimators': [10, 100, 500],\n",
        "          'learning_rate': [0.01, 0.1]}\n",
        "  xgb = XGBClassifier(random_state=42)\n",
        "  grid_search = GridSearchCV(xgb, param_grid, cv=10, scoring='f1')\n",
        "  grid_search.fit(x_train, y_train)\n",
        "  best_xgb = grid_search.best_estimator_\n",
        "  y_val_pred = best_xgb.predict(x_val)\n",
        "  f1 = f1_score(y_val, y_val_pred)\n",
        "  accuracy = accuracy_score(y_val, y_val_pred)\n",
        "  conf_matrix = confusion_matrix(y_val, y_val_pred)\n",
        "  return {'model': 'XGBoost', 'best_model': best_xgb, 'f1': f1, 'accuracy': accuracy, 'conf_matrix': conf_matrix}\n",
        "\n",
        "results['XGBoost'] = train_test_xgb(x_train, y_train, x_val, y_val)"
      ],
      "metadata": {
        "id": "44QzUZ7wwU_8"
      },
      "execution_count": 32,
      "outputs": []
    },
    {
      "cell_type": "code",
      "source": [
        "results['XGBoost']"
      ],
      "metadata": {
        "colab": {
          "base_uri": "https://localhost:8080/"
        },
        "id": "W_XDiZUajCyE",
        "outputId": "c5815b8a-ac2e-480f-abb5-fe570a6d5d0d"
      },
      "execution_count": 33,
      "outputs": [
        {
          "output_type": "execute_result",
          "data": {
            "text/plain": [
              "{'model': 'XGBoost',\n",
              " 'best_model': XGBClassifier(base_score=None, booster=None, callbacks=None,\n",
              "               colsample_bylevel=None, colsample_bynode=None,\n",
              "               colsample_bytree=None, device=None, early_stopping_rounds=None,\n",
              "               enable_categorical=False, eval_metric=None, feature_types=None,\n",
              "               gamma=None, grow_policy=None, importance_type=None,\n",
              "               interaction_constraints=None, learning_rate=0.1, max_bin=None,\n",
              "               max_cat_threshold=None, max_cat_to_onehot=None,\n",
              "               max_delta_step=None, max_depth=None, max_leaves=None,\n",
              "               min_child_weight=None, missing=nan, monotone_constraints=None,\n",
              "               multi_strategy=None, n_estimators=500, n_jobs=None,\n",
              "               num_parallel_tree=None, random_state=42, ...),\n",
              " 'f1': 0.6463832601767783,\n",
              " 'accuracy': 0.8218256733420184,\n",
              " 'conf_matrix': array([[21751,  4301],\n",
              "        [ 1580,  5375]])}"
            ]
          },
          "metadata": {},
          "execution_count": 33
        }
      ]
    },
    {
      "cell_type": "markdown",
      "source": [
        "# Utilizing Deep Learning to build the predictive model"
      ],
      "metadata": {
        "id": "zeOmolbGp7fz"
      }
    },
    {
      "cell_type": "code",
      "source": [
        "x_train.shape"
      ],
      "metadata": {
        "colab": {
          "base_uri": "https://localhost:8080/"
        },
        "id": "A2STzH2WU_hO",
        "outputId": "9b084526-9742-4b67-d839-639b06203fd1"
      },
      "execution_count": 34,
      "outputs": [
        {
          "output_type": "execute_result",
          "data": {
            "text/plain": [
              "(208122, 10)"
            ]
          },
          "metadata": {},
          "execution_count": 34
        }
      ]
    },
    {
      "cell_type": "code",
      "source": [
        "from tensorflow.keras.models import Sequential\n",
        "from tensorflow.keras.layers import Dense, BatchNormalization\n",
        "from tensorflow.keras.callbacks import Callback, EarlyStopping\n",
        "from tensorflow.keras.optimizers import Adam\n",
        "from sklearn.metrics import roc_auc_score\n",
        "from tensorflow.keras import backend as K\n",
        "\n",
        "class LossHistory(Callback):\n",
        "  def on_train_begin(self, logs=None):\n",
        "    self.total_batches = 0\n",
        "    self.losses = []\n",
        "    self.val_losses = []\n",
        "    self.iterations = []\n",
        "    self.accuracy = []\n",
        "    self.val_accuracy = []\n",
        "    self.f1 = []\n",
        "    self.val_f1 = []\n",
        "\n",
        "  def on_batch_end(self, batch, logs=None):\n",
        "    self.total_batches += 1\n",
        "    if self.total_batches % 100 == 0:\n",
        "      self.losses.append(logs.get('loss'))\n",
        "      self.iterations.append(self.total_batches)\n",
        "\n",
        "  def on_epoch_end(self, epoch, logs=None):\n",
        "    self.val_losses.append(logs.get('val_loss'))\n",
        "    self.accuracy.append(logs.get('accuracy'))\n",
        "    self.val_accuracy.append(logs.get('val_accuracy'))\n",
        "    self.f1.append(logs.get('f1_m'))\n",
        "    self.val_f1.append(logs.get('val_f1_m'))\n",
        "\n",
        "def f1_m(y_true, y_pred):\n",
        "  def recall_m(y_true, y_pred):\n",
        "    true_positives = K.sum(K.round(K.clip(y_true * y_pred, 0, 1)))\n",
        "    possible_positives = K.sum(K.round(K.clip(y_true, 0, 1)))\n",
        "    recall = true_positives / (possible_positives+K.epsilon())\n",
        "    return recall\n",
        "\n",
        "  def precision_m(y_true, y_pred):\n",
        "    true_positives = K.sum(K.round(K.clip(y_true * y_pred, 0, 1)))\n",
        "    predicted_positives = K.sum(K.round(K.clip(y_pred, 0, 1)))\n",
        "    precision = true_positives / (predicted_positives+K.epsilon())\n",
        "    return precision\n",
        "\n",
        "  precision = precision_m(y_true, y_pred)\n",
        "  recall = recall_m(y_true, y_pred)\n",
        "  return 2 * ((precision*recall) / (precision+recall+K.epsilon()))\n",
        "\n",
        "history = LossHistory()\n",
        "\n",
        "DLmodel = Sequential([\n",
        "    Dense(16, activation='relu'),\n",
        "    BatchNormalization(momentum=0.01),\n",
        "    Dense(4, activation='relu'),\n",
        "    BatchNormalization(momentum=0.01),\n",
        "    Dense(1, activation='sigmoid')\n",
        "])\n",
        "\n",
        "learning_rate = 0.01\n",
        "DLmodel.compile(optimizer=Adam(learning_rate=learning_rate), loss='binary_crossentropy', metrics=['accuracy', f1_m])\n",
        "early_stopping = EarlyStopping(monitor='val_f1_m', mode='max', patience=10, restore_best_weights=True)\n",
        "history = LossHistory()\n",
        "DLmodel.fit(x_train, y_train, validation_data=(x_val, y_val), epochs=100, batch_size=50, callbacks=[history, early_stopping])\n",
        "\n",
        "'''Accuracy'''\n",
        "plt.figure(figsize=(10, 5))\n",
        "plt.plot(history.accuracy, label='Train Accuracy')\n",
        "plt.plot(history.val_accuracy, label='Validation Accuracy')\n",
        "plt.plot(history.f1, label='Train F1 Score')\n",
        "plt.plot(history.val_f1, label='Validation F1 Score')\n",
        "plt.title('Model Accuracy and F1 Score')\n",
        "plt.xlabel('Epoch')\n",
        "plt.ylabel('Score')\n",
        "plt.legend()\n",
        "plt.show()\n",
        "\n",
        "'''Confusion Matrix'''\n",
        "y_pred = DLmodel.predict(x_val)\n",
        "y_pred_classes = (y_pred > 0.5).astype(int)\n",
        "DLconf_matrix = confusion_matrix(y_val, y_pred_classes)\n",
        "\n",
        "'''F1 Score'''\n",
        "DLf1 = f1_score(y_val, y_pred_classes)\n",
        "DLaccuracy = accuracy_score(y_val, y_pred_classes)\n",
        "\n",
        "results['Deep Learning'] = {\n",
        "    'model': 'Deep Learning',\n",
        "    'best_model': DLmodel,\n",
        "    'f1': DLf1,\n",
        "    'accuracy':DLaccuracy,\n",
        "    'conf_matrix': DLconf_matrix\n",
        "    }"
      ],
      "metadata": {
        "colab": {
          "base_uri": "https://localhost:8080/",
          "height": 1000
        },
        "id": "rIF5PIHBqZQG",
        "outputId": "b6efaf38-5303-4c37-af43-eea732e6bd50"
      },
      "execution_count": 51,
      "outputs": [
        {
          "output_type": "stream",
          "name": "stdout",
          "text": [
            "Epoch 1/100\n",
            "4163/4163 [==============================] - 20s 4ms/step - loss: 0.4599 - accuracy: 0.7848 - f1_m: 0.7827 - val_loss: 0.4645 - val_accuracy: 0.7722 - val_f1_m: 0.5948\n",
            "Epoch 2/100\n",
            "4163/4163 [==============================] - 15s 4ms/step - loss: 0.4440 - accuracy: 0.7945 - f1_m: 0.7916 - val_loss: 0.5275 - val_accuracy: 0.7520 - val_f1_m: 0.5796\n",
            "Epoch 3/100\n",
            "4163/4163 [==============================] - 15s 4ms/step - loss: 0.4397 - accuracy: 0.7965 - f1_m: 0.7935 - val_loss: 0.6118 - val_accuracy: 0.6899 - val_f1_m: 0.5442\n",
            "Epoch 4/100\n",
            "4163/4163 [==============================] - 13s 3ms/step - loss: 0.4386 - accuracy: 0.7975 - f1_m: 0.7946 - val_loss: 0.3794 - val_accuracy: 0.8311 - val_f1_m: 0.6282\n",
            "Epoch 5/100\n",
            "4163/4163 [==============================] - 14s 3ms/step - loss: 0.4371 - accuracy: 0.7982 - f1_m: 0.7952 - val_loss: 0.3479 - val_accuracy: 0.8520 - val_f1_m: 0.6430\n",
            "Epoch 6/100\n",
            "4163/4163 [==============================] - 15s 4ms/step - loss: 0.4366 - accuracy: 0.7988 - f1_m: 0.7960 - val_loss: 0.3805 - val_accuracy: 0.8279 - val_f1_m: 0.6364\n",
            "Epoch 7/100\n",
            "4163/4163 [==============================] - 14s 3ms/step - loss: 0.4359 - accuracy: 0.7998 - f1_m: 0.7970 - val_loss: 0.5206 - val_accuracy: 0.7516 - val_f1_m: 0.5829\n",
            "Epoch 8/100\n",
            "4163/4163 [==============================] - 16s 4ms/step - loss: 0.4359 - accuracy: 0.7984 - f1_m: 0.7957 - val_loss: 0.4635 - val_accuracy: 0.7878 - val_f1_m: 0.6114\n",
            "Epoch 9/100\n",
            "4163/4163 [==============================] - 14s 3ms/step - loss: 0.4353 - accuracy: 0.8002 - f1_m: 0.7975 - val_loss: 0.3314 - val_accuracy: 0.8571 - val_f1_m: 0.6273\n",
            "Epoch 10/100\n",
            "4163/4163 [==============================] - 13s 3ms/step - loss: 0.4347 - accuracy: 0.8004 - f1_m: 0.7976 - val_loss: 0.3511 - val_accuracy: 0.8426 - val_f1_m: 0.6315\n",
            "Epoch 11/100\n",
            "4163/4163 [==============================] - 13s 3ms/step - loss: 0.4346 - accuracy: 0.7988 - f1_m: 0.7963 - val_loss: 0.3644 - val_accuracy: 0.8404 - val_f1_m: 0.6458\n",
            "Epoch 12/100\n",
            "4163/4163 [==============================] - 13s 3ms/step - loss: 0.4346 - accuracy: 0.7996 - f1_m: 0.7966 - val_loss: 0.5641 - val_accuracy: 0.7315 - val_f1_m: 0.5705\n",
            "Epoch 13/100\n",
            "4163/4163 [==============================] - 14s 3ms/step - loss: 0.4341 - accuracy: 0.7994 - f1_m: 0.7968 - val_loss: 0.5593 - val_accuracy: 0.7450 - val_f1_m: 0.5775\n",
            "Epoch 14/100\n",
            "4163/4163 [==============================] - 14s 3ms/step - loss: 0.4341 - accuracy: 0.8008 - f1_m: 0.7979 - val_loss: 0.4374 - val_accuracy: 0.8024 - val_f1_m: 0.6205\n",
            "Epoch 15/100\n",
            "4163/4163 [==============================] - 14s 3ms/step - loss: 0.4332 - accuracy: 0.8004 - f1_m: 0.7976 - val_loss: 0.3645 - val_accuracy: 0.8374 - val_f1_m: 0.6279\n",
            "Epoch 16/100\n",
            "4163/4163 [==============================] - 14s 3ms/step - loss: 0.4327 - accuracy: 0.8001 - f1_m: 0.7970 - val_loss: 0.3702 - val_accuracy: 0.8397 - val_f1_m: 0.6475\n",
            "Epoch 17/100\n",
            "4163/4163 [==============================] - 14s 3ms/step - loss: 0.4330 - accuracy: 0.8008 - f1_m: 0.7976 - val_loss: 0.5609 - val_accuracy: 0.7208 - val_f1_m: 0.5630\n",
            "Epoch 18/100\n",
            "4163/4163 [==============================] - 14s 3ms/step - loss: 0.4325 - accuracy: 0.8005 - f1_m: 0.7977 - val_loss: 0.3720 - val_accuracy: 0.8316 - val_f1_m: 0.6357\n",
            "Epoch 19/100\n",
            "4163/4163 [==============================] - 14s 3ms/step - loss: 0.4331 - accuracy: 0.7997 - f1_m: 0.7966 - val_loss: 1.1246 - val_accuracy: 0.8314 - val_f1_m: 0.6415\n",
            "Epoch 20/100\n",
            "4163/4163 [==============================] - 15s 4ms/step - loss: 0.4334 - accuracy: 0.8000 - f1_m: 0.7969 - val_loss: 0.4776 - val_accuracy: 0.7708 - val_f1_m: 0.5975\n",
            "Epoch 21/100\n",
            "4163/4163 [==============================] - 14s 3ms/step - loss: 0.4332 - accuracy: 0.8006 - f1_m: 0.7975 - val_loss: 0.4504 - val_accuracy: 0.8310 - val_f1_m: 0.6369\n",
            "Epoch 22/100\n",
            "4163/4163 [==============================] - 14s 3ms/step - loss: 0.4333 - accuracy: 0.8007 - f1_m: 0.7977 - val_loss: 0.3652 - val_accuracy: 0.8354 - val_f1_m: 0.6418\n",
            "Epoch 23/100\n",
            "4163/4163 [==============================] - 14s 3ms/step - loss: 0.4326 - accuracy: 0.8003 - f1_m: 0.7973 - val_loss: 0.3594 - val_accuracy: 0.8396 - val_f1_m: 0.6443\n",
            "Epoch 24/100\n",
            "4163/4163 [==============================] - 14s 3ms/step - loss: 0.4321 - accuracy: 0.8010 - f1_m: 0.7980 - val_loss: 0.5397 - val_accuracy: 0.7463 - val_f1_m: 0.5803\n",
            "Epoch 25/100\n",
            "4163/4163 [==============================] - 15s 4ms/step - loss: 0.4328 - accuracy: 0.8005 - f1_m: 0.7974 - val_loss: 0.3452 - val_accuracy: 0.8523 - val_f1_m: 0.6510\n",
            "Epoch 26/100\n",
            "4163/4163 [==============================] - 14s 3ms/step - loss: 0.4323 - accuracy: 0.8017 - f1_m: 0.7987 - val_loss: 0.4968 - val_accuracy: 0.7703 - val_f1_m: 0.5982\n",
            "Epoch 27/100\n",
            "4163/4163 [==============================] - 14s 3ms/step - loss: 0.4332 - accuracy: 0.8007 - f1_m: 0.7976 - val_loss: 0.4462 - val_accuracy: 0.8257 - val_f1_m: 0.6366\n",
            "Epoch 28/100\n",
            "4163/4163 [==============================] - 14s 3ms/step - loss: 0.4324 - accuracy: 0.8011 - f1_m: 0.7980 - val_loss: 0.4674 - val_accuracy: 0.7756 - val_f1_m: 0.5994\n",
            "Epoch 29/100\n",
            "4163/4163 [==============================] - 14s 3ms/step - loss: 0.4324 - accuracy: 0.8010 - f1_m: 0.7979 - val_loss: 0.5123 - val_accuracy: 0.8204 - val_f1_m: 0.6267\n",
            "Epoch 30/100\n",
            "4163/4163 [==============================] - 14s 3ms/step - loss: 0.4325 - accuracy: 0.8009 - f1_m: 0.7977 - val_loss: 0.5162 - val_accuracy: 0.8254 - val_f1_m: 0.6330\n",
            "Epoch 31/100\n",
            "4163/4163 [==============================] - 14s 3ms/step - loss: 0.4316 - accuracy: 0.8013 - f1_m: 0.7983 - val_loss: 0.3952 - val_accuracy: 0.8242 - val_f1_m: 0.6365\n",
            "Epoch 32/100\n",
            "4163/4163 [==============================] - 15s 4ms/step - loss: 0.4322 - accuracy: 0.8013 - f1_m: 0.7980 - val_loss: 0.4375 - val_accuracy: 0.7972 - val_f1_m: 0.6169\n",
            "Epoch 33/100\n",
            "4163/4163 [==============================] - 13s 3ms/step - loss: 0.4319 - accuracy: 0.8013 - f1_m: 0.7981 - val_loss: 0.6328 - val_accuracy: 0.8174 - val_f1_m: 0.6305\n",
            "Epoch 34/100\n",
            "4163/4163 [==============================] - 13s 3ms/step - loss: 0.4313 - accuracy: 0.8006 - f1_m: 0.7975 - val_loss: 0.4328 - val_accuracy: 0.8088 - val_f1_m: 0.6246\n",
            "Epoch 35/100\n",
            "4163/4163 [==============================] - 13s 3ms/step - loss: 0.4319 - accuracy: 0.8013 - f1_m: 0.7980 - val_loss: 0.3900 - val_accuracy: 0.8315 - val_f1_m: 0.6378\n"
          ]
        },
        {
          "output_type": "display_data",
          "data": {
            "text/plain": [
              "<Figure size 1000x500 with 1 Axes>"
            ],
            "image/png": "[encoded data removed]"
          },
          "metadata": {}
        },
        {
          "output_type": "stream",
          "name": "stdout",
          "text": [
            "1032/1032 [==============================] - 2s 2ms/step\n"
          ]
        }
      ]
    },
    {
      "cell_type": "markdown",
      "source": [
        "# See the best result of each method"
      ],
      "metadata": {
        "id": "5z4dXJL9yeOg"
      }
    },
    {
      "cell_type": "code",
      "source": [
        "import seaborn as sns\n",
        "\n",
        "models = list(results.keys())"
      ],
      "metadata": {
        "id": "jm6Vw_MszwlT"
      },
      "execution_count": 52,
      "outputs": []
    },
    {
      "cell_type": "code",
      "source": [
        "f1_scores = [results[model]['f1'] for model in models]\n",
        "accuracies = [results[model]['accuracy'] for model in models]\n",
        "\n",
        "x = range(len(models))\n",
        "width = 0.35\n",
        "\n",
        "fig, graph = plt.subplots(figsize=(12, 8))\n",
        "bar1 = graph.bar(x, f1_scores, width, label='F1 Score')\n",
        "bar2 = graph.bar([i + width for i in x], accuracies, width, label='Accuracy')\n",
        "\n",
        "graph.set_xlabel('Model')\n",
        "graph.set_ylabel('Scores')\n",
        "graph.set_title('F1 Score and Accuracy by Model')\n",
        "graph.set_xticks([i + width / 2 for i in x])\n",
        "graph.set_xticklabels(models)\n",
        "graph.legend()\n",
        "\n",
        "for bar in bar1 + bar2:\n",
        "  height = bar.get_height()\n",
        "  graph.annotate(f'{height:.2f}',\n",
        "          xy=(bar.get_x()+bar.get_width()/2, height),\n",
        "          xytext=(0, 3),\n",
        "          textcoords=\"offset points\",\n",
        "          ha='center',\n",
        "          va='bottom')\n",
        "\n",
        "plt.show()"
      ],
      "metadata": {
        "colab": {
          "base_uri": "https://localhost:8080/",
          "height": 718
        },
        "id": "VYaIve3EydYI",
        "outputId": "60b16d25-76cc-4ca1-b07a-3b1d0680a91d"
      },
      "execution_count": 53,
      "outputs": [
        {
          "output_type": "display_data",
          "data": {
            "text/plain": [
              "<Figure size 1200x800 with 1 Axes>"
            ],
            "image/png": "[encoded data removed]"
          },
          "metadata": {}
        }
      ]
    },
    {
      "cell_type": "markdown",
      "source": [
        "* Deep learning method helped us get the best result of 84% prediction accuracy, with 66% f1 score"
      ],
      "metadata": {
        "id": "ZlSpox4gw6eB"
      }
    },
    {
      "cell_type": "code",
      "source": [
        "plt.figure(figsize=(13, 10))\n",
        "\n",
        "for i, model in enumerate(models):\n",
        "  conf_matrix = results[model]['conf_matrix']\n",
        "  plt.subplot(2, 2, i+1)\n",
        "  sns.heatmap(conf_matrix, annot=True, fmt='d', cmap='Blues')\n",
        "  plt.title(f'{model} Confusion Matrix')\n",
        "  plt.xlabel('Predicted')\n",
        "  plt.ylabel('Actual')\n",
        "\n",
        "plt.subplots_adjust(left=0.1, right=0.9, top=0.9, bottom=0.1, wspace=0.4, hspace=0.4)\n",
        "plt.show()"
      ],
      "metadata": {
        "colab": {
          "base_uri": "https://localhost:8080/",
          "height": 902
        },
        "id": "8r95IcZBzqoZ",
        "outputId": "67962147-5c0a-4d1f-adfd-cf80b00edf45"
      },
      "execution_count": 54,
      "outputs": [
        {
          "output_type": "display_data",
          "data": {
            "text/plain": [
              "<Figure size 1300x1000 with 8 Axes>"
            ],
            "image/png": "[encoded data removed]"
          },
          "metadata": {}
        }
      ]
    },
    {
      "cell_type": "markdown",
      "source": [
        "* While XGBoost performed better in forecasting 1 than Deep learning did, it performed worse in forecasting 0"
      ],
      "metadata": {
        "id": "DSTBVWuaxIs2"
      }
    },
    {
      "cell_type": "code",
      "source": [
        "from sklearn.metrics import precision_recall_curve\n",
        "\n",
        "Models = [results[model]['best_model'] for model in models]\n",
        "model_names = [model for model in models]\n",
        "colors = ['blue', 'green', 'red', 'purple']\n",
        "\n",
        "fig, ax = plt.subplots(figsize=(10, 7))\n",
        "\n",
        "for model, color, model_name in zip(Models, colors, model_names):\n",
        "  precisions, recalls, _ = precision_recall_curve(y_val, model.predict(x_val).ravel())\n",
        "  ax.plot(recalls, precisions, color=color, label=f'{model_name} Precision-Recall curve')\n",
        "\n",
        "ax.plot([0, 1], [0.5, 0.5], linestyle='--', color='grey', label='0.5 Precision baseline')\n",
        "ax.plot([0.5, 0.5], [0, 1], linestyle='--', color='black', label='0.5 Recall baseline')\n",
        "\n",
        "ax.legend()\n",
        "ax.set_xlabel('Recall')\n",
        "ax.set_ylabel('Precision')\n",
        "ax.set_title('Precision-Recall curve for different models')\n",
        "plt.show()"
      ],
      "metadata": {
        "colab": {
          "base_uri": "https://localhost:8080/",
          "height": 659
        },
        "id": "NhkzrxjRULA_",
        "outputId": "26259323-dc7a-4dcf-9e39-fc142b0b3477"
      },
      "execution_count": 55,
      "outputs": [
        {
          "output_type": "stream",
          "name": "stdout",
          "text": [
            "1032/1032 [==============================] - 2s 2ms/step\n"
          ]
        },
        {
          "output_type": "display_data",
          "data": {
            "text/plain": [
              "<Figure size 1000x700 with 1 Axes>"
            ],
            "image/png": "[encoded data removed]"
          },
          "metadata": {}
        }
      ]
    },
    {
      "cell_type": "markdown",
      "source": [
        "Deep Learning's result shows high precision as well as recall, indicating this method is the most robust one"
      ],
      "metadata": {
        "id": "b0i9vcdAxf3_"
      }
    },
    {
      "cell_type": "markdown",
      "source": [
        "# Make prediction using different models and save the results to a CSV file"
      ],
      "metadata": {
        "id": "bUhsHG6ua3Sc"
      }
    },
    {
      "cell_type": "code",
      "source": [
        "from sklearn.metrics import precision_score, recall_score\n",
        "\n",
        "df = pd.DataFrame(test)\n",
        "model_performance = []\n",
        "Test = test.iloc[:,3:].copy()\n",
        "Test['Geography'] = labelencoder1.fit_transform(Test['Geography'])\n",
        "Test['Gender'] = labelencoder2.fit_transform(Test['Gender'])\n",
        "scaler1 = MinMaxScaler()\n",
        "Test = scaler1.fit_transform(Test)\n",
        "\n",
        "\n",
        "for model_name, model_data in results.items():\n",
        "  model = model_data['best_model']\n",
        "\n",
        "  if hasattr(model, 'predict_proba'):\n",
        "    probabilities = model.predict_proba(Test)[:, 1]\n",
        "    predictions = model.predict(Test)\n",
        "    df[f'{model_name} Predictions'] = predictions\n",
        "    df[f'{model_name} Probabilities of being 1'] = probabilities\n",
        "    val_predictions = model.predict(x_val)\n",
        "    accuracy = results[model_name]['accuracy']\n",
        "    f1 = results[model_name]['f1']\n",
        "    precision = precision_score(y_val, val_predictions)\n",
        "    recall = recall_score(y_val, val_predictions)\n",
        "    conf_matrix = confusion_matrix(y_val, val_predictions)\n",
        "    model_performance.append({\n",
        "        'Model': model_name,\n",
        "        'Accuracy': accuracy,\n",
        "        'F1 Score': f1,\n",
        "        'Precision': precision,\n",
        "        'Recall': recall,\n",
        "        'Confusion Matrix': conf_matrix\n",
        "        })\n",
        "  else:\n",
        "    probabilities = model.predict(Test)\n",
        "    predictions = (probabilities>0.5).astype(int)\n",
        "    df[f'{model_name} Predictions'] = predictions\n",
        "    df[f'{model_name} Probabilities of being 1'] = probabilities\n",
        "    val_predictions = (model.predict(x_val)>0.5).astype(int)\n",
        "    accuracy = results[model_name]['accuracy']\n",
        "    f1 = results[model_name]['f1']\n",
        "    precision = precision_score(y_val, val_predictions)\n",
        "    recall = recall_score(y_val, val_predictions)\n",
        "    conf_matrix = confusion_matrix(y_val, val_predictions)\n",
        "    model_performance.append({\n",
        "        'Model': model_name,\n",
        "        'Accuracy': accuracy,\n",
        "        'F1 Score': f1,\n",
        "        'Precision': precision,\n",
        "        'Recall': recall,\n",
        "        'Confusion Matrix': conf_matrix\n",
        "        })\n",
        "\n",
        "performance_df = pd.DataFrame(model_performance)\n",
        "\n",
        "combined_df = pd.concat([df, pd.DataFrame([['']*len(df.columns)], columns=df.columns)], ignore_index=True)\n",
        "performance_df_expanded = performance_df.melt(id_vars='Model', var_name='Metric', value_name='Value')\n",
        "performance_df_expanded['Index'] = range(len(combined_df), len(combined_df)+len(performance_df_expanded))\n",
        "combined_df = pd.concat([combined_df, performance_df_expanded.set_index('Index')], axis=0, ignore_index=True)\n",
        "combined_df.to_csv('Predictions_Performance.csv', index=False)"
      ],
      "metadata": {
        "colab": {
          "base_uri": "https://localhost:8080/"
        },
        "id": "LZNMZd4XZoi7",
        "outputId": "42d5a254-f8b3-4654-abd6-5bafc8dd2197"
      },
      "execution_count": 56,
      "outputs": [
        {
          "output_type": "stream",
          "name": "stdout",
          "text": [
            "3439/3439 [==============================] - 5s 1ms/step\n",
            "1032/1032 [==============================] - 2s 2ms/step\n"
          ]
        }
      ]
    },
    {
      "cell_type": "markdown",
      "source": [
        "# Conclusion:\n",
        "# Deep Learning gave us the best predictive model on forecasting the status of exit"
      ],
      "metadata": {
        "id": "dnheAwlpyG52"
      }
    },
    {
      "cell_type": "markdown",
      "source": [
        "The below graph shows the distribution of the predictions for the testing dats"
      ],
      "metadata": {
        "id": "2w8y3nci-BB9"
      }
    },
    {
      "cell_type": "code",
      "source": [
        "plt.figure(figsize=(13, 10))\n",
        "plt.subplot(2, 2, 1)\n",
        "df['KNN Predictions'].value_counts().plot(kind='pie', autopct='%1.1f%%')\n",
        "plt.title('KNN Predictions')\n",
        "plt.subplot(2, 2, 2)\n",
        "df['Logistic Regression Predictions'].value_counts().plot(kind='pie', autopct='%1.1f%%')\n",
        "plt.title('Logistic Regression Predictions')\n",
        "plt.subplot(2, 2, 3)\n",
        "df['XGBoost Predictions'].value_counts().plot(kind='pie', autopct='%1.1f%%')\n",
        "plt.title('XGBoost Predictions')\n",
        "plt.subplot(2, 2, 4)\n",
        "df['Deep Learning Predictions'].value_counts().plot(kind='pie', autopct='%1.1f%%')\n",
        "plt.title('Deep Learning Predictions')\n",
        "\n",
        "plt.show()"
      ],
      "metadata": {
        "colab": {
          "base_uri": "https://localhost:8080/",
          "height": 829
        },
        "id": "-1SNSX4s8m8s",
        "outputId": "f4cd3404-ced7-42ea-c321-d062f2b5bd47"
      },
      "execution_count": 57,
      "outputs": [
        {
          "output_type": "display_data",
          "data": {
            "text/plain": [
              "<Figure size 1300x1000 with 4 Axes>"
            ],
            "image/png": "[encoded data removed]"
          },
          "metadata": {}
        }
      ]
    }
  ]
}
